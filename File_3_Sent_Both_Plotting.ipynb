{
 "cells": [
  {
   "cell_type": "code",
   "execution_count": 7,
   "id": "f7b5f252-0800-42a6-96df-59650836fbaf",
   "metadata": {},
   "outputs": [],
   "source": [
    "import pickle\n",
    "\n",
    "# Open the pickle file in binary mode\n",
    "with open('sent_yelp_scores.pkl', 'rb') as file:\n",
    "    # Load the object from the pickle file\n",
    "    df = pickle.load(file)"
   ]
  },
  {
   "cell_type": "code",
   "execution_count": 8,
   "id": "102ac7a3-7e2c-4826-9e53-d7fdf017d7a5",
   "metadata": {},
   "outputs": [
    {
     "name": "stdout",
     "output_type": "stream",
     "text": [
      "<class 'pandas.core.frame.DataFrame'>\n",
      "DatetimeIndex: 134039 entries, 2021-03-18 to 2020-12-22\n",
      "Data columns (total 8 columns):\n",
      " #   Column          Non-Null Count   Dtype         \n",
      "---  ------          --------------   -----         \n",
      " 0   title           134039 non-null  object        \n",
      " 1   clean_text      134039 non-null  object        \n",
      " 2   sentiment_type  134039 non-null  object        \n",
      " 3   prob_neg        134039 non-null  float64       \n",
      " 4   prob_pos        134039 non-null  float64       \n",
      " 5   year            134039 non-null  int32         \n",
      " 6   month           134039 non-null  int32         \n",
      " 7   date_formatted  134039 non-null  datetime64[ns]\n",
      "dtypes: datetime64[ns](1), float64(2), int32(2), object(3)\n",
      "memory usage: 8.2+ MB\n"
     ]
    }
   ],
   "source": [
    "df.info()"
   ]
  },
  {
   "cell_type": "code",
   "execution_count": 9,
   "id": "7aab447d-2862-4f63-a5db-8c4be430dd5a",
   "metadata": {},
   "outputs": [],
   "source": [
    "df = df.sort_values('date_formatted',ascending=True)"
   ]
  },
  {
   "cell_type": "code",
   "execution_count": 10,
   "id": "329d2d2c-8c26-44e8-b147-5f0d36726050",
   "metadata": {},
   "outputs": [],
   "source": [
    "df['year_month'] = df['date_formatted'].dt.strftime('%Y-%m')"
   ]
  },
  {
   "cell_type": "code",
   "execution_count": 11,
   "id": "22c5576e-3f4d-4273-af3a-f8eeea610174",
   "metadata": {},
   "outputs": [
    {
     "data": {
      "text/html": [
       "<div>\n",
       "<style scoped>\n",
       "    .dataframe tbody tr th:only-of-type {\n",
       "        vertical-align: middle;\n",
       "    }\n",
       "\n",
       "    .dataframe tbody tr th {\n",
       "        vertical-align: top;\n",
       "    }\n",
       "\n",
       "    .dataframe thead th {\n",
       "        text-align: right;\n",
       "    }\n",
       "</style>\n",
       "<table border=\"1\" class=\"dataframe\">\n",
       "  <thead>\n",
       "    <tr style=\"text-align: right;\">\n",
       "      <th></th>\n",
       "      <th>title</th>\n",
       "      <th>clean_text</th>\n",
       "      <th>sentiment_type</th>\n",
       "      <th>prob_neg</th>\n",
       "      <th>prob_pos</th>\n",
       "      <th>year</th>\n",
       "      <th>month</th>\n",
       "      <th>date_formatted</th>\n",
       "      <th>year_month</th>\n",
       "    </tr>\n",
       "    <tr>\n",
       "      <th>date</th>\n",
       "      <th></th>\n",
       "      <th></th>\n",
       "      <th></th>\n",
       "      <th></th>\n",
       "      <th></th>\n",
       "      <th></th>\n",
       "      <th></th>\n",
       "      <th></th>\n",
       "      <th></th>\n",
       "    </tr>\n",
       "  </thead>\n",
       "  <tbody>\n",
       "    <tr>\n",
       "      <th>2020-01-01</th>\n",
       "      <td>Art meets artificial intelligence: Austin art...</td>\n",
       "      <td>Some the works are still images, while others ...</td>\n",
       "      <td>Positive</td>\n",
       "      <td>0.189302</td>\n",
       "      <td>0.810698</td>\n",
       "      <td>2020</td>\n",
       "      <td>1</td>\n",
       "      <td>2020-01-01</td>\n",
       "      <td>2020-01</td>\n",
       "    </tr>\n",
       "    <tr>\n",
       "      <th>2020-01-01</th>\n",
       "      <td>10 Powerful Applications Of Artificial Intelli...</td>\n",
       "      <td>Powerful Applications Of Artificial Intellige...</td>\n",
       "      <td>Positive</td>\n",
       "      <td>0.003752</td>\n",
       "      <td>0.996248</td>\n",
       "      <td>2020</td>\n",
       "      <td>1</td>\n",
       "      <td>2020-01-01</td>\n",
       "      <td>2020-01</td>\n",
       "    </tr>\n",
       "    <tr>\n",
       "      <th>2020-01-01</th>\n",
       "      <td>‘Doomsday’ scenario of mass layoffs due to art...</td>\n",
       "      <td>Privacy Policy Terms &amp; Conditions ‘Doomsday’ s...</td>\n",
       "      <td>Negative</td>\n",
       "      <td>0.995571</td>\n",
       "      <td>0.004429</td>\n",
       "      <td>2020</td>\n",
       "      <td>1</td>\n",
       "      <td>2020-01-01</td>\n",
       "      <td>2020-01</td>\n",
       "    </tr>\n",
       "    <tr>\n",
       "      <th>2020-01-01</th>\n",
       "      <td>'Doomsday' scenario of mass layoffs due to AI ...</td>\n",
       "      <td>Newly released documents show that top governm...</td>\n",
       "      <td>Negative</td>\n",
       "      <td>0.844282</td>\n",
       "      <td>0.155718</td>\n",
       "      <td>2020</td>\n",
       "      <td>1</td>\n",
       "      <td>2020-01-01</td>\n",
       "      <td>2020-01</td>\n",
       "    </tr>\n",
       "    <tr>\n",
       "      <th>2020-01-01</th>\n",
       "      <td>Automation, AI continue to offer rich promises...</td>\n",
       "      <td>Automation and AI continued to log in multi-mi...</td>\n",
       "      <td>Negative</td>\n",
       "      <td>0.923271</td>\n",
       "      <td>0.076729</td>\n",
       "      <td>2020</td>\n",
       "      <td>1</td>\n",
       "      <td>2020-01-01</td>\n",
       "      <td>2020-01</td>\n",
       "    </tr>\n",
       "  </tbody>\n",
       "</table>\n",
       "</div>"
      ],
      "text/plain": [
       "                                                        title   \n",
       "date                                                            \n",
       "2020-01-01   Art meets artificial intelligence: Austin art...  \\\n",
       "2020-01-01  10 Powerful Applications Of Artificial Intelli...   \n",
       "2020-01-01  ‘Doomsday’ scenario of mass layoffs due to art...   \n",
       "2020-01-01  'Doomsday' scenario of mass layoffs due to AI ...   \n",
       "2020-01-01  Automation, AI continue to offer rich promises...   \n",
       "\n",
       "                                                   clean_text sentiment_type   \n",
       "date                                                                           \n",
       "2020-01-01  Some the works are still images, while others ...       Positive  \\\n",
       "2020-01-01   Powerful Applications Of Artificial Intellige...       Positive   \n",
       "2020-01-01  Privacy Policy Terms & Conditions ‘Doomsday’ s...       Negative   \n",
       "2020-01-01  Newly released documents show that top governm...       Negative   \n",
       "2020-01-01  Automation and AI continued to log in multi-mi...       Negative   \n",
       "\n",
       "            prob_neg  prob_pos  year  month date_formatted year_month  \n",
       "date                                                                   \n",
       "2020-01-01  0.189302  0.810698  2020      1     2020-01-01    2020-01  \n",
       "2020-01-01  0.003752  0.996248  2020      1     2020-01-01    2020-01  \n",
       "2020-01-01  0.995571  0.004429  2020      1     2020-01-01    2020-01  \n",
       "2020-01-01  0.844282  0.155718  2020      1     2020-01-01    2020-01  \n",
       "2020-01-01  0.923271  0.076729  2020      1     2020-01-01    2020-01  "
      ]
     },
     "execution_count": 11,
     "metadata": {},
     "output_type": "execute_result"
    }
   ],
   "source": [
    "df.head()"
   ]
  },
  {
   "cell_type": "code",
   "execution_count": 12,
   "id": "b8f9a744-f271-4fde-8cb9-47c56cf07e63",
   "metadata": {},
   "outputs": [],
   "source": [
    "df = df.drop(['year','month','date_formatted'],axis=1)"
   ]
  },
  {
   "cell_type": "code",
   "execution_count": 13,
   "id": "5b53fa44-b43d-48de-9cc5-8afb2f60119f",
   "metadata": {},
   "outputs": [
    {
     "data": {
      "text/html": [
       "<div>\n",
       "<style scoped>\n",
       "    .dataframe tbody tr th:only-of-type {\n",
       "        vertical-align: middle;\n",
       "    }\n",
       "\n",
       "    .dataframe tbody tr th {\n",
       "        vertical-align: top;\n",
       "    }\n",
       "\n",
       "    .dataframe thead th {\n",
       "        text-align: right;\n",
       "    }\n",
       "</style>\n",
       "<table border=\"1\" class=\"dataframe\">\n",
       "  <thead>\n",
       "    <tr style=\"text-align: right;\">\n",
       "      <th></th>\n",
       "      <th>title</th>\n",
       "      <th>clean_text</th>\n",
       "      <th>sentiment_type</th>\n",
       "      <th>prob_neg</th>\n",
       "      <th>prob_pos</th>\n",
       "      <th>year_month</th>\n",
       "    </tr>\n",
       "    <tr>\n",
       "      <th>date</th>\n",
       "      <th></th>\n",
       "      <th></th>\n",
       "      <th></th>\n",
       "      <th></th>\n",
       "      <th></th>\n",
       "      <th></th>\n",
       "    </tr>\n",
       "  </thead>\n",
       "  <tbody>\n",
       "    <tr>\n",
       "      <th>2020-01-01</th>\n",
       "      <td>Art meets artificial intelligence: Austin art...</td>\n",
       "      <td>Some the works are still images, while others ...</td>\n",
       "      <td>Positive</td>\n",
       "      <td>0.189302</td>\n",
       "      <td>0.810698</td>\n",
       "      <td>2020-01</td>\n",
       "    </tr>\n",
       "    <tr>\n",
       "      <th>2020-01-01</th>\n",
       "      <td>10 Powerful Applications Of Artificial Intelli...</td>\n",
       "      <td>Powerful Applications Of Artificial Intellige...</td>\n",
       "      <td>Positive</td>\n",
       "      <td>0.003752</td>\n",
       "      <td>0.996248</td>\n",
       "      <td>2020-01</td>\n",
       "    </tr>\n",
       "    <tr>\n",
       "      <th>2020-01-01</th>\n",
       "      <td>‘Doomsday’ scenario of mass layoffs due to art...</td>\n",
       "      <td>Privacy Policy Terms &amp; Conditions ‘Doomsday’ s...</td>\n",
       "      <td>Negative</td>\n",
       "      <td>0.995571</td>\n",
       "      <td>0.004429</td>\n",
       "      <td>2020-01</td>\n",
       "    </tr>\n",
       "    <tr>\n",
       "      <th>2020-01-01</th>\n",
       "      <td>'Doomsday' scenario of mass layoffs due to AI ...</td>\n",
       "      <td>Newly released documents show that top governm...</td>\n",
       "      <td>Negative</td>\n",
       "      <td>0.844282</td>\n",
       "      <td>0.155718</td>\n",
       "      <td>2020-01</td>\n",
       "    </tr>\n",
       "    <tr>\n",
       "      <th>2020-01-01</th>\n",
       "      <td>Automation, AI continue to offer rich promises...</td>\n",
       "      <td>Automation and AI continued to log in multi-mi...</td>\n",
       "      <td>Negative</td>\n",
       "      <td>0.923271</td>\n",
       "      <td>0.076729</td>\n",
       "      <td>2020-01</td>\n",
       "    </tr>\n",
       "  </tbody>\n",
       "</table>\n",
       "</div>"
      ],
      "text/plain": [
       "                                                        title   \n",
       "date                                                            \n",
       "2020-01-01   Art meets artificial intelligence: Austin art...  \\\n",
       "2020-01-01  10 Powerful Applications Of Artificial Intelli...   \n",
       "2020-01-01  ‘Doomsday’ scenario of mass layoffs due to art...   \n",
       "2020-01-01  'Doomsday' scenario of mass layoffs due to AI ...   \n",
       "2020-01-01  Automation, AI continue to offer rich promises...   \n",
       "\n",
       "                                                   clean_text sentiment_type   \n",
       "date                                                                           \n",
       "2020-01-01  Some the works are still images, while others ...       Positive  \\\n",
       "2020-01-01   Powerful Applications Of Artificial Intellige...       Positive   \n",
       "2020-01-01  Privacy Policy Terms & Conditions ‘Doomsday’ s...       Negative   \n",
       "2020-01-01  Newly released documents show that top governm...       Negative   \n",
       "2020-01-01  Automation and AI continued to log in multi-mi...       Negative   \n",
       "\n",
       "            prob_neg  prob_pos year_month  \n",
       "date                                       \n",
       "2020-01-01  0.189302  0.810698    2020-01  \n",
       "2020-01-01  0.003752  0.996248    2020-01  \n",
       "2020-01-01  0.995571  0.004429    2020-01  \n",
       "2020-01-01  0.844282  0.155718    2020-01  \n",
       "2020-01-01  0.923271  0.076729    2020-01  "
      ]
     },
     "execution_count": 13,
     "metadata": {},
     "output_type": "execute_result"
    }
   ],
   "source": [
    "df.head(5)"
   ]
  },
  {
   "cell_type": "code",
   "execution_count": 14,
   "id": "733742b0-139c-4aaf-ab39-ddb8d528845a",
   "metadata": {},
   "outputs": [],
   "source": [
    "df_p = df[df['sentiment_type']=='Positive']\n",
    "df_p = df_p.groupby(['year_month','title','clean_text'], as_index=False)['prob_pos'].mean()"
   ]
  },
  {
   "cell_type": "code",
   "execution_count": 15,
   "id": "9baa8073-3c3a-40cd-8ef2-cd9956585576",
   "metadata": {},
   "outputs": [
    {
     "data": {
      "text/html": [
       "<div>\n",
       "<style scoped>\n",
       "    .dataframe tbody tr th:only-of-type {\n",
       "        vertical-align: middle;\n",
       "    }\n",
       "\n",
       "    .dataframe tbody tr th {\n",
       "        vertical-align: top;\n",
       "    }\n",
       "\n",
       "    .dataframe thead th {\n",
       "        text-align: right;\n",
       "    }\n",
       "</style>\n",
       "<table border=\"1\" class=\"dataframe\">\n",
       "  <thead>\n",
       "    <tr style=\"text-align: right;\">\n",
       "      <th></th>\n",
       "      <th>year_month</th>\n",
       "      <th>title</th>\n",
       "      <th>clean_text</th>\n",
       "      <th>prob_pos</th>\n",
       "    </tr>\n",
       "  </thead>\n",
       "  <tbody>\n",
       "    <tr>\n",
       "      <th>0</th>\n",
       "      <td>2020-01</td>\n",
       "      <td>\\r \\tInsilico, Pfizer to jointly explore novel...</td>\n",
       "      <td>Insilico, Pfizer to jointly explore novel data...</td>\n",
       "      <td>0.722864</td>\n",
       "    </tr>\n",
       "    <tr>\n",
       "      <th>1</th>\n",
       "      <td>2020-01</td>\n",
       "      <td>\\r \\tIsraeli data science platform co Iguazio ...</td>\n",
       "      <td>Israeli data science platform for real time ma...</td>\n",
       "      <td>0.794515</td>\n",
       "    </tr>\n",
       "    <tr>\n",
       "      <th>2</th>\n",
       "      <td>2020-01</td>\n",
       "      <td>\\r \\tStudy demonstrates accuracy of AI system ...</td>\n",
       "      <td>Study demonstrates accuracy of AI system in di...</td>\n",
       "      <td>0.527837</td>\n",
       "    </tr>\n",
       "    <tr>\n",
       "      <th>3</th>\n",
       "      <td>2020-01</td>\n",
       "      <td>\\r         \\r     \\r     Blow Molding: Online ...</td>\n",
       "      <td>Blow Molding: Online PET Preform Inspection Us...</td>\n",
       "      <td>0.642190</td>\n",
       "    </tr>\n",
       "    <tr>\n",
       "      <th>4</th>\n",
       "      <td>2020-01</td>\n",
       "      <td>\\r         Irish AI firm announces new collabo...</td>\n",
       "      <td>Registered in Ireland: . Everseen’s retail tec...</td>\n",
       "      <td>0.579075</td>\n",
       "    </tr>\n",
       "  </tbody>\n",
       "</table>\n",
       "</div>"
      ],
      "text/plain": [
       "  year_month                                              title   \n",
       "0    2020-01  \\r \\tInsilico, Pfizer to jointly explore novel...  \\\n",
       "1    2020-01  \\r \\tIsraeli data science platform co Iguazio ...   \n",
       "2    2020-01  \\r \\tStudy demonstrates accuracy of AI system ...   \n",
       "3    2020-01  \\r         \\r     \\r     Blow Molding: Online ...   \n",
       "4    2020-01  \\r         Irish AI firm announces new collabo...   \n",
       "\n",
       "                                          clean_text  prob_pos  \n",
       "0  Insilico, Pfizer to jointly explore novel data...  0.722864  \n",
       "1  Israeli data science platform for real time ma...  0.794515  \n",
       "2  Study demonstrates accuracy of AI system in di...  0.527837  \n",
       "3  Blow Molding: Online PET Preform Inspection Us...  0.642190  \n",
       "4  Registered in Ireland: . Everseen’s retail tec...  0.579075  "
      ]
     },
     "execution_count": 15,
     "metadata": {},
     "output_type": "execute_result"
    }
   ],
   "source": [
    "df_p.head()"
   ]
  },
  {
   "cell_type": "code",
   "execution_count": 16,
   "id": "a6cb6d85-00d8-46f0-97ee-2503ad1e0763",
   "metadata": {},
   "outputs": [
    {
     "data": {
      "text/plain": [
       "60888"
      ]
     },
     "execution_count": 16,
     "metadata": {},
     "output_type": "execute_result"
    }
   ],
   "source": [
    "len(df_p)"
   ]
  },
  {
   "cell_type": "code",
   "execution_count": 17,
   "id": "6060717e-9ed1-4875-a6db-7cb56b9d4387",
   "metadata": {},
   "outputs": [],
   "source": [
    "df_n = df[df['sentiment_type']=='Negative']\n",
    "df_n = df_n.groupby(['year_month','title','clean_text'], as_index=False)['prob_neg'].mean()"
   ]
  },
  {
   "cell_type": "code",
   "execution_count": 18,
   "id": "b1f6fe6e-72ff-42ed-b14f-49dc05a6645a",
   "metadata": {},
   "outputs": [
    {
     "data": {
      "text/html": [
       "<div>\n",
       "<style scoped>\n",
       "    .dataframe tbody tr th:only-of-type {\n",
       "        vertical-align: middle;\n",
       "    }\n",
       "\n",
       "    .dataframe tbody tr th {\n",
       "        vertical-align: top;\n",
       "    }\n",
       "\n",
       "    .dataframe thead th {\n",
       "        text-align: right;\n",
       "    }\n",
       "</style>\n",
       "<table border=\"1\" class=\"dataframe\">\n",
       "  <thead>\n",
       "    <tr style=\"text-align: right;\">\n",
       "      <th></th>\n",
       "      <th>year_month</th>\n",
       "      <th>title</th>\n",
       "      <th>clean_text</th>\n",
       "      <th>prob_neg</th>\n",
       "    </tr>\n",
       "  </thead>\n",
       "  <tbody>\n",
       "    <tr>\n",
       "      <th>0</th>\n",
       "      <td>2020-01</td>\n",
       "      <td>\\r \\t\\t\\tGoogle CEO calls for regulation of ar...</td>\n",
       "      <td>“There is no question in my mind that artifici...</td>\n",
       "      <td>0.989812</td>\n",
       "    </tr>\n",
       "    <tr>\n",
       "      <th>1</th>\n",
       "      <td>2020-01</td>\n",
       "      <td>\\r \\tCould AI beat humans in spotting breast t...</td>\n",
       "      <td>Could AI beat humans in spotting breast tumour...</td>\n",
       "      <td>0.999377</td>\n",
       "    </tr>\n",
       "    <tr>\n",
       "      <th>2</th>\n",
       "      <td>2020-01</td>\n",
       "      <td>\\r \\tIsrael Innovation Authority to help train...</td>\n",
       "      <td>\"In recent years, data science is taking over ...</td>\n",
       "      <td>0.999929</td>\n",
       "    </tr>\n",
       "    <tr>\n",
       "      <th>3</th>\n",
       "      <td>2020-01</td>\n",
       "      <td>\\r \\tNew AI system determines aggressiveness o...</td>\n",
       "      <td>New AI system determines aggressiveness of pro...</td>\n",
       "      <td>0.904190</td>\n",
       "    </tr>\n",
       "    <tr>\n",
       "      <th>4</th>\n",
       "      <td>2020-01</td>\n",
       "      <td>\\r \\tNew Mexico Community College Launching 10...</td>\n",
       "      <td>New Mexico Community College Launching -week D...</td>\n",
       "      <td>0.902643</td>\n",
       "    </tr>\n",
       "  </tbody>\n",
       "</table>\n",
       "</div>"
      ],
      "text/plain": [
       "  year_month                                              title   \n",
       "0    2020-01  \\r \\t\\t\\tGoogle CEO calls for regulation of ar...  \\\n",
       "1    2020-01  \\r \\tCould AI beat humans in spotting breast t...   \n",
       "2    2020-01  \\r \\tIsrael Innovation Authority to help train...   \n",
       "3    2020-01  \\r \\tNew AI system determines aggressiveness o...   \n",
       "4    2020-01  \\r \\tNew Mexico Community College Launching 10...   \n",
       "\n",
       "                                          clean_text  prob_neg  \n",
       "0  “There is no question in my mind that artifici...  0.989812  \n",
       "1  Could AI beat humans in spotting breast tumour...  0.999377  \n",
       "2  \"In recent years, data science is taking over ...  0.999929  \n",
       "3  New AI system determines aggressiveness of pro...  0.904190  \n",
       "4  New Mexico Community College Launching -week D...  0.902643  "
      ]
     },
     "execution_count": 18,
     "metadata": {},
     "output_type": "execute_result"
    }
   ],
   "source": [
    "df_n.head()"
   ]
  },
  {
   "cell_type": "code",
   "execution_count": 19,
   "id": "781edea2-62a0-4c3b-8140-292558340fac",
   "metadata": {},
   "outputs": [
    {
     "data": {
      "text/plain": [
       "70401"
      ]
     },
     "execution_count": 19,
     "metadata": {},
     "output_type": "execute_result"
    }
   ],
   "source": [
    "len(df_n)"
   ]
  },
  {
   "cell_type": "code",
   "execution_count": 20,
   "id": "6b7284ed-f5f9-4e50-8e23-2025d3fc8faa",
   "metadata": {},
   "outputs": [],
   "source": [
    "#import seaborn as sns\n",
    "#import matplotlib.pyplot as plt\n",
    "#\n",
    "## Group by 'year_month' and calculate the average of 'prob_pos'\n",
    "#df_grouped = df.groupby('year_month')['prob_pos'].mean().reset_index()\n",
    "#\n",
    "## Create the line plot\n",
    "#plt.figure(figsize=(12, 6))  # Adjust the figure size as needed\n",
    "#sns.lineplot(data=df_grouped, x='year_month', y='prob_pos')\n",
    "#plt.fill_between(df_grouped_pos['year_month'], df_grouped_pos['prob_pos'],color='blue',alpha=0.2)\n",
    "#\n",
    "## Customize the plot\n",
    "#plt.xlabel('Year Month')\n",
    "#plt.ylabel('Average Probability of Positive Sentiment')\n",
    "#plt.title('Average Probability of Positive Sentiment Over Time')\n",
    "#plt.ylim(0.35,0.7)\n",
    "## Rotate x-axis labels for better visibility\n",
    "#plt.xticks(rotation=45)  # Adjust the rotation angle as needed\n",
    "#\n",
    "## Show the plot\n",
    "#plt.tight_layout()  # Adjust spacing if needed\n",
    "#plt.show()"
   ]
  },
  {
   "cell_type": "code",
   "execution_count": 21,
   "id": "04e59ebf-d3a0-4fe6-8fd3-3f38cdac74fe",
   "metadata": {},
   "outputs": [],
   "source": [
    "#import seaborn as sns\n",
    "#import matplotlib.pyplot as plt\n",
    "#\n",
    "#plt.figure(figsize=(12, 6)) \n",
    "#\n",
    "#df_grouped_count = df.groupby('year_month')['title'].count().reset_index()\n",
    "#\n",
    "#sns.barplot(data=df_grouped_count, x='year_month', y='title', color='blue')\n",
    "#plt.ylabel('Count of Titles')\n",
    "#\n",
    "## Rotate x-axis labels for better visibility\n",
    "#plt.xticks(rotation=45)  # Adjust the rotation angle as needed\n",
    "#\n",
    "## Show the plot\n",
    "#plt.tight_layout()  # Adjust spacing if needed\n",
    "#plt.show()"
   ]
  },
  {
   "cell_type": "code",
   "execution_count": 22,
   "id": "9e8b8085-5a36-4ff3-8810-14ba901285bb",
   "metadata": {},
   "outputs": [],
   "source": [
    "#import seaborn as sns\n",
    "#import matplotlib.pyplot as plt\n",
    "#\n",
    "## Group by 'year_month' and calculate the average of 'prob_pos' and 'prob_neg'\n",
    "#df_grouped_neg = df.groupby('year_month')['prob_neg'].mean().reset_index()\n",
    "#df_grouped_pos = df.groupby('year_month')['prob_pos'].mean().reset_index()\n",
    "#\n",
    "## Create the line plot\n",
    "#plt.figure(figsize=(12, 6))  # Adjust the figure size as needed\n",
    "#sns.lineplot(data=df_grouped_neg, x='year_month', y='prob_neg', color='orange')\n",
    "#sns.lineplot(data=df_grouped_pos, x='year_month', y='prob_pos')\n",
    "#\n",
    "## Add the area plot\n",
    "#plt.fill_between(df_grouped_pos['year_month'], df_grouped_neg['prob_neg'],color='orange',alpha=0.2)\n",
    "#plt.fill_between(df_grouped_pos['year_month'], df_grouped_pos['prob_pos'],color='blue',alpha=0.2)\n",
    "#\n",
    "## Customize the plot\n",
    "#plt.xlabel('Year Month')\n",
    "#plt.ylabel('Average Probability of Sentiment')\n",
    "#plt.title('Average Probability of Sentiment Over Time')\n",
    "#plt.ylim(0.35,0.7)\n",
    "## Rotate x-axis labels for better visibility\n",
    "#plt.xticks(rotation=45)  # Adjust the rotation angle as needed\n",
    "#\n",
    "## Show the plot\n",
    "#plt.tight_layout()  # Adjust spacing if needed\n",
    "#plt.show()"
   ]
  },
  {
   "cell_type": "markdown",
   "id": "66acd99c-71e7-4d23-a02f-757b4cb26e75",
   "metadata": {},
   "source": [
    "### Positive Sentiment Articles vs Score"
   ]
  },
  {
   "cell_type": "code",
   "execution_count": null,
   "id": "c86509be-e743-48c2-81d7-4d7d8c94c4ec",
   "metadata": {},
   "outputs": [
    {
     "data": {
      "image/png": "[encoded data removed]",
      "text/plain": [
       "<Figure size 1200x600 with 2 Axes>"
      ]
     },
     "metadata": {},
     "output_type": "display_data"
    }
   ],
   "source": [
    "import seaborn as sns\n",
    "import matplotlib.pyplot as plt\n",
    "\n",
    "df = df_p\n",
    "\n",
    "# Group by 'year_month' and calculate the count of titles\n",
    "df_grouped_count = df.groupby('year_month')['title'].count().reset_index()\n",
    "\n",
    "# Group by 'year_month' and calculate the average of 'prob_pos'\n",
    "df_grouped_pos = df.groupby('year_month')['prob_pos'].mean().reset_index()\n",
    "\n",
    "# Create the figure and axes\n",
    "fig, ax1 = plt.subplots(figsize=(12, 6))\n",
    "\n",
    "# Plot the count of titles as a bar plot with legend\n",
    "sns.barplot(data=df_grouped_count, x='year_month', y='title', color='blue', alpha=0.2, ax=ax1, label='Count of Titles')\n",
    "ax1.set_ylabel('Count of Titles')\n",
    "\n",
    "# Rotate x-axis labels for better visibility\n",
    "ax1.set_xticklabels(ax1.get_xticklabels(), rotation=45)\n",
    "\n",
    "# Create a second y-axis for the line plot\n",
    "ax2 = ax1.twinx()\n",
    "\n",
    "# Set the y-axis limits for the line plot\n",
    "ax2.set_ylim(0.75, 1)\n",
    "\n",
    "# Plot the average probability of positive sentiment as a line plot with legend\n",
    "sns.lineplot(data=df_grouped_pos, x='year_month', y='prob_pos', color='blue', ax=ax2, label='Average Probability of Positive Sentiment')\n",
    "ax2.fill_between(df_grouped_pos['year_month'], df_grouped_pos['prob_pos'], color='blue', alpha=0.2)\n",
    "ax2.set_ylabel('Average Probability of Positive Sentiment')\n",
    "\n",
    "# Add legend\n",
    "ax1.legend(loc='upper left')\n",
    "\n",
    "# Set the title\n",
    "plt.title('Count of Titles and Average Probability of Positive Sentiment Over Time')\n",
    "\n",
    "# Show the plot\n",
    "plt.tight_layout()\n",
    "plt.show()"
   ]
  },
  {
   "cell_type": "code",
   "execution_count": 43,
   "id": "8e197fce-786e-4c14-a8ff-4e527f35fc47",
   "metadata": {},
   "outputs": [
    {
     "data": {
      "text/html": [
       "<div>\n",
       "<style scoped>\n",
       "    .dataframe tbody tr th:only-of-type {\n",
       "        vertical-align: middle;\n",
       "    }\n",
       "\n",
       "    .dataframe tbody tr th {\n",
       "        vertical-align: top;\n",
       "    }\n",
       "\n",
       "    .dataframe thead th {\n",
       "        text-align: right;\n",
       "    }\n",
       "</style>\n",
       "<table border=\"1\" class=\"dataframe\">\n",
       "  <thead>\n",
       "    <tr style=\"text-align: right;\">\n",
       "      <th></th>\n",
       "      <th>year_month</th>\n",
       "      <th>title</th>\n",
       "      <th>clean_text</th>\n",
       "      <th>prob_pos</th>\n",
       "      <th>date</th>\n",
       "      <th>year</th>\n",
       "    </tr>\n",
       "  </thead>\n",
       "  <tbody>\n",
       "    <tr>\n",
       "      <th>0</th>\n",
       "      <td>2020-01</td>\n",
       "      <td>\\r \\tInsilico, Pfizer to jointly explore novel...</td>\n",
       "      <td>Insilico, Pfizer to jointly explore novel data...</td>\n",
       "      <td>0.722864</td>\n",
       "      <td>2020-01-01</td>\n",
       "      <td>2020</td>\n",
       "    </tr>\n",
       "    <tr>\n",
       "      <th>1</th>\n",
       "      <td>2020-01</td>\n",
       "      <td>\\r \\tIsraeli data science platform co Iguazio ...</td>\n",
       "      <td>Israeli data science platform for real time ma...</td>\n",
       "      <td>0.794515</td>\n",
       "      <td>2020-01-01</td>\n",
       "      <td>2020</td>\n",
       "    </tr>\n",
       "    <tr>\n",
       "      <th>2</th>\n",
       "      <td>2020-01</td>\n",
       "      <td>\\r \\tStudy demonstrates accuracy of AI system ...</td>\n",
       "      <td>Study demonstrates accuracy of AI system in di...</td>\n",
       "      <td>0.527837</td>\n",
       "      <td>2020-01-01</td>\n",
       "      <td>2020</td>\n",
       "    </tr>\n",
       "    <tr>\n",
       "      <th>3</th>\n",
       "      <td>2020-01</td>\n",
       "      <td>\\r         \\r     \\r     Blow Molding: Online ...</td>\n",
       "      <td>Blow Molding: Online PET Preform Inspection Us...</td>\n",
       "      <td>0.642190</td>\n",
       "      <td>2020-01-01</td>\n",
       "      <td>2020</td>\n",
       "    </tr>\n",
       "    <tr>\n",
       "      <th>4</th>\n",
       "      <td>2020-01</td>\n",
       "      <td>\\r         Irish AI firm announces new collabo...</td>\n",
       "      <td>Registered in Ireland: . Everseen’s retail tec...</td>\n",
       "      <td>0.579075</td>\n",
       "      <td>2020-01-01</td>\n",
       "      <td>2020</td>\n",
       "    </tr>\n",
       "  </tbody>\n",
       "</table>\n",
       "</div>"
      ],
      "text/plain": [
       "  year_month                                              title   \n",
       "0    2020-01  \\r \\tInsilico, Pfizer to jointly explore novel...  \\\n",
       "1    2020-01  \\r \\tIsraeli data science platform co Iguazio ...   \n",
       "2    2020-01  \\r \\tStudy demonstrates accuracy of AI system ...   \n",
       "3    2020-01  \\r         \\r     \\r     Blow Molding: Online ...   \n",
       "4    2020-01  \\r         Irish AI firm announces new collabo...   \n",
       "\n",
       "                                          clean_text  prob_pos       date   \n",
       "0  Insilico, Pfizer to jointly explore novel data...  0.722864 2020-01-01  \\\n",
       "1  Israeli data science platform for real time ma...  0.794515 2020-01-01   \n",
       "2  Study demonstrates accuracy of AI system in di...  0.527837 2020-01-01   \n",
       "3  Blow Molding: Online PET Preform Inspection Us...  0.642190 2020-01-01   \n",
       "4  Registered in Ireland: . Everseen’s retail tec...  0.579075 2020-01-01   \n",
       "\n",
       "   year  \n",
       "0  2020  \n",
       "1  2020  \n",
       "2  2020  \n",
       "3  2020  \n",
       "4  2020  "
      ]
     },
     "execution_count": 43,
     "metadata": {},
     "output_type": "execute_result"
    }
   ],
   "source": [
    "df.head()"
   ]
  },
  {
   "cell_type": "markdown",
   "id": "11d8c9d8-41a8-47a0-aa35-dc7cbb60901a",
   "metadata": {},
   "source": [
    "### Negative Sentiment Articles vs Score"
   ]
  },
  {
   "cell_type": "code",
   "execution_count": 27,
   "id": "20503bd9-bf29-4894-a5c3-279be05475bc",
   "metadata": {},
   "outputs": [
    {
     "data": {
      "image/png": "[encoded data removed]",
      "text/plain": [
       "<Figure size 1200x600 with 2 Axes>"
      ]
     },
     "metadata": {},
     "output_type": "display_data"
    }
   ],
   "source": [
    "import seaborn as sns\n",
    "import matplotlib.pyplot as plt\n",
    "\n",
    "df = df_n\n",
    "\n",
    "# Group by 'year_month' and calculate the count of titles\n",
    "df_grouped_count = df.groupby('year_month')['title'].count().reset_index()\n",
    "\n",
    "# Group by 'year_month' and calculate the average of 'prob_neg'\n",
    "df_grouped_neg = df.groupby('year_month')['prob_neg'].mean().reset_index()\n",
    "\n",
    "# Create the figure and axes\n",
    "fig, ax1 = plt.subplots(figsize=(12, 6))\n",
    "\n",
    "# Plot the count of titles as a bar plot\n",
    "sns.barplot(data=df_grouped_count, x='year_month', y='title', color='orange', alpha=0.2, ax=ax1, label='Count of Titles')\n",
    "ax1.set_ylabel('Count of Titles')\n",
    "\n",
    "# Rotate x-axis labels for better visibility\n",
    "ax1.set_xticklabels(ax1.get_xticklabels(), rotation=45)\n",
    "\n",
    "# Create a second y-axis for the line plot\n",
    "ax2 = ax1.twinx()\n",
    "\n",
    "# Set the y-axis limits for the line plot\n",
    "ax2.set_ylim(0.75, 1)\n",
    "\n",
    "# Plot the average probability of negative sentiment as a line plot\n",
    "sns.lineplot(data=df_grouped_neg, x='year_month', y='prob_neg', color='orange', ax=ax2, label='Average Probability of Positive Sentiment')\n",
    "ax2.fill_between(df_grouped_neg['year_month'], df_grouped_neg['prob_neg'], color='orange', alpha=0.2)\n",
    "ax2.set_ylabel('Average Probability of Negative Sentiment')\n",
    "\n",
    "\n",
    "# Add legend\n",
    "ax1.legend(loc='upper left')\n",
    "\n",
    "# Set the title\n",
    "plt.title('Count of Titles and Average Probability of Negative Sentiment Over Time')\n",
    "\n",
    "# Show the plot\n",
    "plt.tight_layout()\n",
    "plt.show()"
   ]
  },
  {
   "cell_type": "code",
   "execution_count": 45,
   "id": "5d200596-8655-4539-bd03-e4c0554aeda6",
   "metadata": {},
   "outputs": [
    {
     "data": {
      "text/html": [
       "<div>\n",
       "<style scoped>\n",
       "    .dataframe tbody tr th:only-of-type {\n",
       "        vertical-align: middle;\n",
       "    }\n",
       "\n",
       "    .dataframe tbody tr th {\n",
       "        vertical-align: top;\n",
       "    }\n",
       "\n",
       "    .dataframe thead th {\n",
       "        text-align: right;\n",
       "    }\n",
       "</style>\n",
       "<table border=\"1\" class=\"dataframe\">\n",
       "  <thead>\n",
       "    <tr style=\"text-align: right;\">\n",
       "      <th></th>\n",
       "      <th>year_month</th>\n",
       "      <th>title</th>\n",
       "    </tr>\n",
       "  </thead>\n",
       "  <tbody>\n",
       "    <tr>\n",
       "      <th>0</th>\n",
       "      <td>2020-01</td>\n",
       "      <td>1292</td>\n",
       "    </tr>\n",
       "    <tr>\n",
       "      <th>1</th>\n",
       "      <td>2020-02</td>\n",
       "      <td>1227</td>\n",
       "    </tr>\n",
       "    <tr>\n",
       "      <th>2</th>\n",
       "      <td>2020-03</td>\n",
       "      <td>1293</td>\n",
       "    </tr>\n",
       "    <tr>\n",
       "      <th>3</th>\n",
       "      <td>2020-04</td>\n",
       "      <td>1002</td>\n",
       "    </tr>\n",
       "    <tr>\n",
       "      <th>4</th>\n",
       "      <td>2020-05</td>\n",
       "      <td>1275</td>\n",
       "    </tr>\n",
       "  </tbody>\n",
       "</table>\n",
       "</div>"
      ],
      "text/plain": [
       "  year_month  title\n",
       "0    2020-01   1292\n",
       "1    2020-02   1227\n",
       "2    2020-03   1293\n",
       "3    2020-04   1002\n",
       "4    2020-05   1275"
      ]
     },
     "execution_count": 45,
     "metadata": {},
     "output_type": "execute_result"
    }
   ],
   "source": [
    "df_grouped_count.head()"
   ]
  },
  {
   "cell_type": "code",
   "execution_count": 46,
   "id": "20a83945-eef4-48b3-988d-c07ef4a17b96",
   "metadata": {},
   "outputs": [
    {
     "data": {
      "text/html": [
       "<div>\n",
       "<style scoped>\n",
       "    .dataframe tbody tr th:only-of-type {\n",
       "        vertical-align: middle;\n",
       "    }\n",
       "\n",
       "    .dataframe tbody tr th {\n",
       "        vertical-align: top;\n",
       "    }\n",
       "\n",
       "    .dataframe thead th {\n",
       "        text-align: right;\n",
       "    }\n",
       "</style>\n",
       "<table border=\"1\" class=\"dataframe\">\n",
       "  <thead>\n",
       "    <tr style=\"text-align: right;\">\n",
       "      <th></th>\n",
       "      <th>year_month</th>\n",
       "      <th>title</th>\n",
       "      <th>clean_text</th>\n",
       "      <th>prob_pos</th>\n",
       "      <th>date</th>\n",
       "      <th>year</th>\n",
       "    </tr>\n",
       "  </thead>\n",
       "  <tbody>\n",
       "    <tr>\n",
       "      <th>0</th>\n",
       "      <td>2020-01</td>\n",
       "      <td>\\r \\tInsilico, Pfizer to jointly explore novel...</td>\n",
       "      <td>Insilico, Pfizer to jointly explore novel data...</td>\n",
       "      <td>0.722864</td>\n",
       "      <td>2020-01-01</td>\n",
       "      <td>2020</td>\n",
       "    </tr>\n",
       "    <tr>\n",
       "      <th>1</th>\n",
       "      <td>2020-01</td>\n",
       "      <td>\\r \\tIsraeli data science platform co Iguazio ...</td>\n",
       "      <td>Israeli data science platform for real time ma...</td>\n",
       "      <td>0.794515</td>\n",
       "      <td>2020-01-01</td>\n",
       "      <td>2020</td>\n",
       "    </tr>\n",
       "    <tr>\n",
       "      <th>2</th>\n",
       "      <td>2020-01</td>\n",
       "      <td>\\r \\tStudy demonstrates accuracy of AI system ...</td>\n",
       "      <td>Study demonstrates accuracy of AI system in di...</td>\n",
       "      <td>0.527837</td>\n",
       "      <td>2020-01-01</td>\n",
       "      <td>2020</td>\n",
       "    </tr>\n",
       "    <tr>\n",
       "      <th>3</th>\n",
       "      <td>2020-01</td>\n",
       "      <td>\\r         \\r     \\r     Blow Molding: Online ...</td>\n",
       "      <td>Blow Molding: Online PET Preform Inspection Us...</td>\n",
       "      <td>0.642190</td>\n",
       "      <td>2020-01-01</td>\n",
       "      <td>2020</td>\n",
       "    </tr>\n",
       "    <tr>\n",
       "      <th>4</th>\n",
       "      <td>2020-01</td>\n",
       "      <td>\\r         Irish AI firm announces new collabo...</td>\n",
       "      <td>Registered in Ireland: . Everseen’s retail tec...</td>\n",
       "      <td>0.579075</td>\n",
       "      <td>2020-01-01</td>\n",
       "      <td>2020</td>\n",
       "    </tr>\n",
       "  </tbody>\n",
       "</table>\n",
       "</div>"
      ],
      "text/plain": [
       "  year_month                                              title   \n",
       "0    2020-01  \\r \\tInsilico, Pfizer to jointly explore novel...  \\\n",
       "1    2020-01  \\r \\tIsraeli data science platform co Iguazio ...   \n",
       "2    2020-01  \\r \\tStudy demonstrates accuracy of AI system ...   \n",
       "3    2020-01  \\r         \\r     \\r     Blow Molding: Online ...   \n",
       "4    2020-01  \\r         Irish AI firm announces new collabo...   \n",
       "\n",
       "                                          clean_text  prob_pos       date   \n",
       "0  Insilico, Pfizer to jointly explore novel data...  0.722864 2020-01-01  \\\n",
       "1  Israeli data science platform for real time ma...  0.794515 2020-01-01   \n",
       "2  Study demonstrates accuracy of AI system in di...  0.527837 2020-01-01   \n",
       "3  Blow Molding: Online PET Preform Inspection Us...  0.642190 2020-01-01   \n",
       "4  Registered in Ireland: . Everseen’s retail tec...  0.579075 2020-01-01   \n",
       "\n",
       "   year  \n",
       "0  2020  \n",
       "1  2020  \n",
       "2  2020  \n",
       "3  2020  \n",
       "4  2020  "
      ]
     },
     "execution_count": 46,
     "metadata": {},
     "output_type": "execute_result"
    }
   ],
   "source": [
    "df_p.head()"
   ]
  },
  {
   "cell_type": "code",
   "execution_count": 47,
   "id": "5555e7d1-6bc2-4583-98e8-7b9d07d6e05e",
   "metadata": {},
   "outputs": [
    {
     "data": {
      "text/html": [
       "<div>\n",
       "<style scoped>\n",
       "    .dataframe tbody tr th:only-of-type {\n",
       "        vertical-align: middle;\n",
       "    }\n",
       "\n",
       "    .dataframe tbody tr th {\n",
       "        vertical-align: top;\n",
       "    }\n",
       "\n",
       "    .dataframe thead th {\n",
       "        text-align: right;\n",
       "    }\n",
       "</style>\n",
       "<table border=\"1\" class=\"dataframe\">\n",
       "  <thead>\n",
       "    <tr style=\"text-align: right;\">\n",
       "      <th></th>\n",
       "      <th>year_month</th>\n",
       "      <th>title</th>\n",
       "      <th>clean_text</th>\n",
       "      <th>prob_neg</th>\n",
       "    </tr>\n",
       "  </thead>\n",
       "  <tbody>\n",
       "    <tr>\n",
       "      <th>0</th>\n",
       "      <td>2020-01</td>\n",
       "      <td>\\r \\t\\t\\tGoogle CEO calls for regulation of ar...</td>\n",
       "      <td>“There is no question in my mind that artifici...</td>\n",
       "      <td>0.989812</td>\n",
       "    </tr>\n",
       "    <tr>\n",
       "      <th>1</th>\n",
       "      <td>2020-01</td>\n",
       "      <td>\\r \\tCould AI beat humans in spotting breast t...</td>\n",
       "      <td>Could AI beat humans in spotting breast tumour...</td>\n",
       "      <td>0.999377</td>\n",
       "    </tr>\n",
       "    <tr>\n",
       "      <th>2</th>\n",
       "      <td>2020-01</td>\n",
       "      <td>\\r \\tIsrael Innovation Authority to help train...</td>\n",
       "      <td>\"In recent years, data science is taking over ...</td>\n",
       "      <td>0.999929</td>\n",
       "    </tr>\n",
       "    <tr>\n",
       "      <th>3</th>\n",
       "      <td>2020-01</td>\n",
       "      <td>\\r \\tNew AI system determines aggressiveness o...</td>\n",
       "      <td>New AI system determines aggressiveness of pro...</td>\n",
       "      <td>0.904190</td>\n",
       "    </tr>\n",
       "    <tr>\n",
       "      <th>4</th>\n",
       "      <td>2020-01</td>\n",
       "      <td>\\r \\tNew Mexico Community College Launching 10...</td>\n",
       "      <td>New Mexico Community College Launching -week D...</td>\n",
       "      <td>0.902643</td>\n",
       "    </tr>\n",
       "  </tbody>\n",
       "</table>\n",
       "</div>"
      ],
      "text/plain": [
       "  year_month                                              title   \n",
       "0    2020-01  \\r \\t\\t\\tGoogle CEO calls for regulation of ar...  \\\n",
       "1    2020-01  \\r \\tCould AI beat humans in spotting breast t...   \n",
       "2    2020-01  \\r \\tIsrael Innovation Authority to help train...   \n",
       "3    2020-01  \\r \\tNew AI system determines aggressiveness o...   \n",
       "4    2020-01  \\r \\tNew Mexico Community College Launching 10...   \n",
       "\n",
       "                                          clean_text  prob_neg  \n",
       "0  “There is no question in my mind that artifici...  0.989812  \n",
       "1  Could AI beat humans in spotting breast tumour...  0.999377  \n",
       "2  \"In recent years, data science is taking over ...  0.999929  \n",
       "3  New AI system determines aggressiveness of pro...  0.904190  \n",
       "4  New Mexico Community College Launching -week D...  0.902643  "
      ]
     },
     "execution_count": 47,
     "metadata": {},
     "output_type": "execute_result"
    }
   ],
   "source": [
    "df_n.head()"
   ]
  },
  {
   "cell_type": "code",
   "execution_count": 53,
   "id": "f166a819-b35a-4fff-a3de-4c6e3ae1ea24",
   "metadata": {},
   "outputs": [
    {
     "data": {
      "text/plain": [
       "70401"
      ]
     },
     "execution_count": 53,
     "metadata": {},
     "output_type": "execute_result"
    }
   ],
   "source": [
    "len(df_n)"
   ]
  },
  {
   "cell_type": "code",
   "execution_count": 56,
   "id": "50851476-6541-4a2d-b638-7df14edd91b9",
   "metadata": {},
   "outputs": [
    {
     "data": {
      "text/plain": [
       "60888"
      ]
     },
     "execution_count": 56,
     "metadata": {},
     "output_type": "execute_result"
    }
   ],
   "source": [
    "len(df_p)"
   ]
  },
  {
   "cell_type": "code",
   "execution_count": 49,
   "id": "63cd502f-2559-46c3-8e4e-f99d9939854b",
   "metadata": {},
   "outputs": [],
   "source": [
    "import pandas as pd\n",
    "import pickle\n",
    "\n",
    "# Write the filtered_news dataframe to a pickle file\n",
    "df_p.to_pickle('positive_sent_articles.pkl')"
   ]
  },
  {
   "cell_type": "code",
   "execution_count": 54,
   "id": "a2061f9e-1675-44b6-b86b-17e30b2c74bf",
   "metadata": {},
   "outputs": [],
   "source": [
    "# Write the filtered_news dataframe to a parquet file\n",
    "df_p.to_parquet('positive_sent_articles.parquet')"
   ]
  },
  {
   "cell_type": "code",
   "execution_count": 50,
   "id": "cf3f750c-e96d-4e4d-a9e1-5e3c03fefe8a",
   "metadata": {},
   "outputs": [],
   "source": [
    "import pandas as pd\n",
    "import pickle\n",
    "\n",
    "# Write the filtered_news dataframe to a pickle file\n",
    "df_n.to_pickle('negative_sent_articles.pkl')"
   ]
  },
  {
   "cell_type": "code",
   "execution_count": 59,
   "id": "f6880990-1267-4bc5-8b32-b717e21d05fa",
   "metadata": {},
   "outputs": [],
   "source": [
    "# Write the filtered_news dataframe to a parquet file\n",
    "df_n.to_parquet('negative_sent_articles.parquet')"
   ]
  },
  {
   "cell_type": "markdown",
   "id": "8cdc1d76-5c47-4c99-b2a8-bf3925455427",
   "metadata": {},
   "source": [
    "### Now, by digging deeper into when the sentiment was highly positive and also highly negative"
   ]
  },
  {
   "cell_type": "markdown",
   "id": "7acbfd1a-e81e-4240-abe9-f29087de6c51",
   "metadata": {},
   "source": [
    "By performing LDA on the positively and negatively classified articles, I aim to understand the trends like correlation between the number of articles in a month and the overall positive/ negative sentiment int he respective time period"
   ]
  },
  {
   "cell_type": "markdown",
   "id": "590ff206-2c25-48ce-888f-1e90b62ae43b",
   "metadata": {},
   "source": [
    "## Check the next notebook"
   ]
  },
  {
   "cell_type": "code",
   "execution_count": null,
   "id": "cc501ea1-0989-4ed0-a050-23de94e58f96",
   "metadata": {},
   "outputs": [],
   "source": []
  },
  {
   "cell_type": "code",
   "execution_count": null,
   "id": "cbb05b38-9090-4ff4-9ba5-31d748751809",
   "metadata": {},
   "outputs": [],
   "source": []
  },
  {
   "cell_type": "code",
   "execution_count": null,
   "id": "fb6dbbd9-6ecb-4e17-887b-e11eadc521d6",
   "metadata": {},
   "outputs": [],
   "source": []
  }
 ],
 "metadata": {
  "environment": {
   "kernel": "python3",
   "name": "common-cpu.m108",
   "type": "gcloud",
   "uri": "gcr.io/deeplearning-platform-release/base-cpu:m108"
  },
  "kernelspec": {
   "display_name": "Python 3",
   "language": "python",
   "name": "python3"
  },
  "language_info": {
   "codemirror_mode": {
    "name": "ipython",
    "version": 3
   },
   "file_extension": ".py",
   "mimetype": "text/x-python",
   "name": "python",
   "nbconvert_exporter": "python",
   "pygments_lexer": "ipython3",
   "version": "3.10.10"
  }
 },
 "nbformat": 4,
 "nbformat_minor": 5
}
