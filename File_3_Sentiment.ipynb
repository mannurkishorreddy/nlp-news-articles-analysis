{
 "cells": [
  {
   "cell_type": "code",
   "execution_count": 1,
   "id": "50184f81-5e49-4171-923f-dfad8a491f2a",
   "metadata": {},
   "outputs": [],
   "source": [
    "import pickle\n",
    "\n",
    "# Open the pickle file in binary mode\n",
    "with open('keyword_based_filtered_articles_using_re.pkl', 'rb') as file:\n",
    "    # Load the object from the pickle file\n",
    "    df = pickle.load(file)"
   ]
  },
  {
   "cell_type": "code",
   "execution_count": 2,
   "id": "dc32c041",
   "metadata": {},
   "outputs": [],
   "source": [
    "#!pip install vaderSentiment"
   ]
  },
  {
   "cell_type": "code",
   "execution_count": 3,
   "id": "0ebcf448",
   "metadata": {},
   "outputs": [],
   "source": [
    "from vaderSentiment.vaderSentiment import SentimentIntensityAnalyzer"
   ]
  },
  {
   "cell_type": "code",
   "execution_count": 4,
   "id": "27cb9a1c",
   "metadata": {},
   "outputs": [
    {
     "name": "stdout",
     "output_type": "stream",
     "text": [
      "Available CPUs: 32\n"
     ]
    }
   ],
   "source": [
    "import multiprocessing\n",
    "\n",
    "num_processors = multiprocessing.cpu_count()\n",
    "print(f'Available CPUs: {num_processors}')"
   ]
  },
  {
   "cell_type": "markdown",
   "id": "be131733-a724-4374-a8cb-a0bd520c375c",
   "metadata": {},
   "source": [
    "### NaiveBayesAnalyzer"
   ]
  },
  {
   "cell_type": "code",
   "execution_count": 8,
   "id": "31c07c39-a5a0-435c-8bf4-31acb9df16ea",
   "metadata": {},
   "outputs": [],
   "source": [
    "#import nltk\n",
    "#nltk.download('movie_reviews')"
   ]
  },
  {
   "cell_type": "code",
   "execution_count": 9,
   "id": "d40d3f61-0ad1-4df3-b76d-2a96e09a9c3f",
   "metadata": {},
   "outputs": [],
   "source": [
    "# NaiveBayesAnalyzer is SLOW, taking a small sample of Tweets\n",
    "#df = df.copy()\n",
    "#df = df.sample(n=100, random_state=12345)\n",
    "#\n",
    "#df['sentiment_class'] = df.apply(lambda x: TextBlob(x['clean_text'], analyzer=NaiveBayesAnalyzer()).sentiment.classification, axis=1)\n",
    "#df['sentiment_prob_pos'] = df.apply(lambda x: TextBlob(x['clean_text'], analyzer=NaiveBayesAnalyzer()).sentiment.p_pos, axis=1)\n",
    "#df['sentiment_prob_neg'] = df.apply(lambda x: TextBlob(x['clean_text'], analyzer=NaiveBayesAnalyzer()).sentiment.p_neg, axis=1)\n",
    "#df['sentiment_class'] = np.where(df['sentiment_prob_pos']==0.5, 'neu', tweets['sentiment_class'])\n",
    "#df[['clean_text', 'sentiment_class', 'sentiment_prob_pos', 'sentiment_prob_neg']].head(5)"
   ]
  },
  {
   "cell_type": "code",
   "execution_count": 10,
   "id": "82d543d9-ee60-4b5f-9fe2-f0aaf1a5d0f9",
   "metadata": {},
   "outputs": [],
   "source": [
    "#from tqdm import tqdm\n",
    "#from textblob import TextBlob\n",
    "#from textblob.sentiments import NaiveBayesAnalyzer\n",
    "#import numpy as np\n",
    "#\n",
    "## NaiveBayesAnalyzer is SLOW, taking a small sample of Tweets\n",
    "#df = df.copy()\n",
    "#\n",
    "## Create progress bar\n",
    "#total_rows = len(df)\n",
    "#with tqdm(total=total_rows, desc='Processing') as pbar:\n",
    "#    for index, row in df.iterrows():\n",
    "#        clean_text = row['clean_text']\n",
    "#        blob = TextBlob(clean_text, analyzer=NaiveBayesAnalyzer())\n",
    "#        \n",
    "#        # Calculate sentiment attributes\n",
    "#        sentiment_class = blob.sentiment.classification\n",
    "#        sentiment_prob_pos = blob.sentiment.p_pos\n",
    "#        sentiment_prob_neg = blob.sentiment.p_neg\n",
    "#        \n",
    "#        # Update dataframe\n",
    "#        df.at[index, 'sentiment_class'] = sentiment_class\n",
    "#        df.at[index, 'sentiment_prob_pos'] = sentiment_prob_pos\n",
    "#        df.at[index, 'sentiment_prob_neg'] = sentiment_prob_neg\n",
    "#        \n",
    "#        # Update progress bar\n",
    "#        pbar.update(1)\n",
    "#\n",
    "## Update 'neu' sentiment class where sentiment_prob_pos is 0.5\n",
    "#df['sentiment_class'] = np.where(df['sentiment_prob_pos'] == 0.5, 'neu', df['sentiment_class'])\n",
    "#\n",
    "## Print the head of the dataframe\n",
    "#print(df[['clean_text', 'sentiment_class', 'sentiment_prob_pos', 'sentiment_prob_neg']].head(5))\n",
    "#"
   ]
  },
  {
   "cell_type": "code",
   "execution_count": 11,
   "id": "65d7e37e-6539-4022-9b33-be4d635a4ad0",
   "metadata": {},
   "outputs": [],
   "source": [
    "#df[['clean_text', 'sentiment_class', 'sentiment_prob_pos', 'sentiment_prob_neg']].head(5)"
   ]
  },
  {
   "cell_type": "code",
   "execution_count": 12,
   "id": "fb222e05-d611-4b7c-a8ab-7f4c9c4d9e5b",
   "metadata": {},
   "outputs": [],
   "source": [
    "#sorted_df = df[['clean_text', 'sentiment_class', 'sentiment_prob_pos', 'sentiment_prob_neg']].sort_values('sentiment_prob_neg', ascending=False)\n",
    "#sorted_df.head(5)"
   ]
  },
  {
   "cell_type": "markdown",
   "id": "177b4331-91ed-4e84-ab72-623679340ae2",
   "metadata": {},
   "source": [
    "### Sentiment Analysis Using Trained Yelp Model"
   ]
  },
  {
   "cell_type": "code",
   "execution_count": 13,
   "id": "824c0025-2a77-4864-ba34-c90b0ba99127",
   "metadata": {},
   "outputs": [
    {
     "name": "stdout",
     "output_type": "stream",
     "text": [
      "3.10.10 | packaged by conda-forge | (main, Mar 24 2023, 20:08:06) [GCC 11.3.0]\n"
     ]
    }
   ],
   "source": [
    "import sys\n",
    "print(sys.version)"
   ]
  },
  {
   "cell_type": "code",
   "execution_count": 14,
   "id": "c8551b47-6541-4fc5-b5cd-00cd1dff8a43",
   "metadata": {},
   "outputs": [],
   "source": [
    "import sklearn\n",
    "import os\n",
    "import pandas as pd\n",
    "\n",
    "from sklearn.model_selection import train_test_split\n",
    "from sklearn.feature_extraction.text import CountVectorizer, HashingVectorizer, TfidfTransformer, TfidfVectorizer\n",
    "from sklearn.naive_bayes import MultinomialNB\n",
    "from sklearn.metrics import classification_report, confusion_matrix, accuracy_score\n",
    "from sklearn.linear_model import LogisticRegression, SGDClassifier\n",
    "from sklearn.pipeline import make_pipeline\n",
    "from sklearn import metrics\n",
    "\n",
    "from joblib import dump, load"
   ]
  },
  {
   "cell_type": "code",
   "execution_count": 15,
   "id": "04667a14-8340-4b82-bb8d-5508265e2bef",
   "metadata": {},
   "outputs": [],
   "source": [
    "os.makedirs('/home/jupyter/yelp', exist_ok=True)\n",
    "os.makedirs('/home/jupyter/data/yelp/yelp_model', exist_ok=True)"
   ]
  },
  {
   "cell_type": "code",
   "execution_count": 16,
   "id": "c7f7ff7c-2b54-46fe-96c0-b11b07e370f2",
   "metadata": {},
   "outputs": [],
   "source": [
    "directory = 'https://storage.googleapis.com/msca-bdp-data-open/yelp/'\n",
    "fileName = 'yelp_train_sentiment.json'\n",
    "\n",
    "path = directory + fileName"
   ]
  },
  {
   "cell_type": "code",
   "execution_count": 17,
   "id": "c44666be-dd7c-42e4-8fac-20545bbf3261",
   "metadata": {},
   "outputs": [
    {
     "name": "stdout",
     "output_type": "stream",
     "text": [
      "CPU times: user 1.55 s, sys: 565 ms, total: 2.12 s\n",
      "Wall time: 2.4 s\n"
     ]
    },
    {
     "data": {
      "text/plain": [
       "(255717, 3)"
      ]
     },
     "execution_count": 17,
     "metadata": {},
     "output_type": "execute_result"
    }
   ],
   "source": [
    "%%time\n",
    "\n",
    "yelp = pd.read_json(path, orient='records', lines=True)\n",
    "yelp.shape"
   ]
  },
  {
   "cell_type": "code",
   "execution_count": 18,
   "id": "a079b1c5-c7a1-4496-b7f3-d554ec197199",
   "metadata": {},
   "outputs": [],
   "source": [
    "pd.set_option('display.max_colwidth', 200)"
   ]
  },
  {
   "cell_type": "code",
   "execution_count": 19,
   "id": "25d45603-ac63-4045-aa39-d20f2eec50a3",
   "metadata": {},
   "outputs": [
    {
     "data": {
      "text/html": [
       "<div>\n",
       "<style scoped>\n",
       "    .dataframe tbody tr th:only-of-type {\n",
       "        vertical-align: middle;\n",
       "    }\n",
       "\n",
       "    .dataframe tbody tr th {\n",
       "        vertical-align: top;\n",
       "    }\n",
       "\n",
       "    .dataframe thead th {\n",
       "        text-align: right;\n",
       "    }\n",
       "</style>\n",
       "<table border=\"1\" class=\"dataframe\">\n",
       "  <thead>\n",
       "    <tr style=\"text-align: right;\">\n",
       "      <th></th>\n",
       "      <th>text</th>\n",
       "      <th>label</th>\n",
       "      <th>lang</th>\n",
       "    </tr>\n",
       "  </thead>\n",
       "  <tbody>\n",
       "    <tr>\n",
       "      <th>0</th>\n",
       "      <td>I love Deagan's. I do. I really do. The atmosphere is cozy and festive. The shrimp tacos and house fries are my standbys. The fries are sometimes good and sometimes great, and the spicy dipping sa...</td>\n",
       "      <td>1</td>\n",
       "      <td>en</td>\n",
       "    </tr>\n",
       "    <tr>\n",
       "      <th>1</th>\n",
       "      <td>I love the classes at this gym. Zumba and. Radio Hip Hop are my favorite. This is such a great fun and I love that it is so reasonably priced!</td>\n",
       "      <td>1</td>\n",
       "      <td>en</td>\n",
       "    </tr>\n",
       "    <tr>\n",
       "      <th>2</th>\n",
       "      <td>The tables and floor were dirty. I was the only customer on a Saturday nite and  the person working the counter ignored me I had a corned beef sandwich. I took three bites  and threw it in the trash</td>\n",
       "      <td>0</td>\n",
       "      <td>en</td>\n",
       "    </tr>\n",
       "    <tr>\n",
       "      <th>3</th>\n",
       "      <td>I had an oil change at the 15515 N Scottsdale Road location.  When the car was delivered to me, there were two engine warning lights on that had not been on when I drove the car in.  The technicia...</td>\n",
       "      <td>0</td>\n",
       "      <td>en</td>\n",
       "    </tr>\n",
       "    <tr>\n",
       "      <th>4</th>\n",
       "      <td>The absolute WORST apartment complex I have ever lived in. Moved here from out of state. Hoped to find a decently priced apartment until I got myself settled in. Wow this place has been trash. Lan...</td>\n",
       "      <td>0</td>\n",
       "      <td>en</td>\n",
       "    </tr>\n",
       "  </tbody>\n",
       "</table>\n",
       "</div>"
      ],
      "text/plain": [
       "                                                                                                                                                                                                      text   \n",
       "0  I love Deagan's. I do. I really do. The atmosphere is cozy and festive. The shrimp tacos and house fries are my standbys. The fries are sometimes good and sometimes great, and the spicy dipping sa...  \\\n",
       "1                                                           I love the classes at this gym. Zumba and. Radio Hip Hop are my favorite. This is such a great fun and I love that it is so reasonably priced!   \n",
       "2   The tables and floor were dirty. I was the only customer on a Saturday nite and  the person working the counter ignored me I had a corned beef sandwich. I took three bites  and threw it in the trash   \n",
       "3  I had an oil change at the 15515 N Scottsdale Road location.  When the car was delivered to me, there were two engine warning lights on that had not been on when I drove the car in.  The technicia...   \n",
       "4  The absolute WORST apartment complex I have ever lived in. Moved here from out of state. Hoped to find a decently priced apartment until I got myself settled in. Wow this place has been trash. Lan...   \n",
       "\n",
       "   label lang  \n",
       "0      1   en  \n",
       "1      1   en  \n",
       "2      0   en  \n",
       "3      0   en  \n",
       "4      0   en  "
      ]
     },
     "execution_count": 19,
     "metadata": {},
     "output_type": "execute_result"
    }
   ],
   "source": [
    "# examine the first 5 rows\n",
    "yelp.head(5)"
   ]
  },
  {
   "cell_type": "code",
   "execution_count": 20,
   "id": "a9aa0a9f-0991-491e-b26e-e7b7df3ded91",
   "metadata": {},
   "outputs": [
    {
     "name": "stdout",
     "output_type": "stream",
     "text": [
      "(255717,)\n",
      "(255717,)\n"
     ]
    }
   ],
   "source": [
    "# define X and y\n",
    "X = yelp['text']\n",
    "y = yelp['label']\n",
    "print(X.shape)\n",
    "print(y.shape)"
   ]
  },
  {
   "cell_type": "code",
   "execution_count": 21,
   "id": "c042db4b-44cd-4807-bf33-213efd34dbf7",
   "metadata": {},
   "outputs": [
    {
     "name": "stdout",
     "output_type": "stream",
     "text": [
      "(191787,)\n",
      "(63930,)\n",
      "(191787,)\n",
      "(63930,)\n"
     ]
    }
   ],
   "source": [
    "# split X and y into training and testing sets\n",
    "X_train, X_test, y_train, y_test = train_test_split(X, y, random_state=123)\n",
    "print(X_train.shape)\n",
    "print(X_test.shape)\n",
    "print(y_train.shape)\n",
    "print(y_test.shape)"
   ]
  },
  {
   "cell_type": "markdown",
   "id": "e6172acd-4e56-4ed6-b2f8-31638efbe2d9",
   "metadata": {},
   "source": [
    "### Support Vector Machine"
   ]
  },
  {
   "cell_type": "code",
   "execution_count": 22,
   "id": "3c4bc4ac-3b7e-4cbe-a409-70b60e4eb232",
   "metadata": {},
   "outputs": [],
   "source": [
    "pipe_svm = make_pipeline(\n",
    "    CountVectorizer(lowercase=False, stop_words='english', ngram_range=(1,3)),\n",
    "    SGDClassifier(max_iter=100, tol=None)\n",
    ")"
   ]
  },
  {
   "cell_type": "code",
   "execution_count": 23,
   "id": "32dd2ba4-a172-4808-8e90-51fc41632dc2",
   "metadata": {},
   "outputs": [
    {
     "name": "stdout",
     "output_type": "stream",
     "text": [
      "CPU times: user 2min 20s, sys: 5.48 s, total: 2min 25s\n",
      "Wall time: 2min 21s\n"
     ]
    },
    {
     "data": {
      "text/html": [
       "<style>#sk-container-id-1 {color: black;background-color: white;}#sk-container-id-1 pre{padding: 0;}#sk-container-id-1 div.sk-toggleable {background-color: white;}#sk-container-id-1 label.sk-toggleable__label {cursor: pointer;display: block;width: 100%;margin-bottom: 0;padding: 0.3em;box-sizing: border-box;text-align: center;}#sk-container-id-1 label.sk-toggleable__label-arrow:before {content: \"▸\";float: left;margin-right: 0.25em;color: #696969;}#sk-container-id-1 label.sk-toggleable__label-arrow:hover:before {color: black;}#sk-container-id-1 div.sk-estimator:hover label.sk-toggleable__label-arrow:before {color: black;}#sk-container-id-1 div.sk-toggleable__content {max-height: 0;max-width: 0;overflow: hidden;text-align: left;background-color: #f0f8ff;}#sk-container-id-1 div.sk-toggleable__content pre {margin: 0.2em;color: black;border-radius: 0.25em;background-color: #f0f8ff;}#sk-container-id-1 input.sk-toggleable__control:checked~div.sk-toggleable__content {max-height: 200px;max-width: 100%;overflow: auto;}#sk-container-id-1 input.sk-toggleable__control:checked~label.sk-toggleable__label-arrow:before {content: \"▾\";}#sk-container-id-1 div.sk-estimator input.sk-toggleable__control:checked~label.sk-toggleable__label {background-color: #d4ebff;}#sk-container-id-1 div.sk-label input.sk-toggleable__control:checked~label.sk-toggleable__label {background-color: #d4ebff;}#sk-container-id-1 input.sk-hidden--visually {border: 0;clip: rect(1px 1px 1px 1px);clip: rect(1px, 1px, 1px, 1px);height: 1px;margin: -1px;overflow: hidden;padding: 0;position: absolute;width: 1px;}#sk-container-id-1 div.sk-estimator {font-family: monospace;background-color: #f0f8ff;border: 1px dotted black;border-radius: 0.25em;box-sizing: border-box;margin-bottom: 0.5em;}#sk-container-id-1 div.sk-estimator:hover {background-color: #d4ebff;}#sk-container-id-1 div.sk-parallel-item::after {content: \"\";width: 100%;border-bottom: 1px solid gray;flex-grow: 1;}#sk-container-id-1 div.sk-label:hover label.sk-toggleable__label {background-color: #d4ebff;}#sk-container-id-1 div.sk-serial::before {content: \"\";position: absolute;border-left: 1px solid gray;box-sizing: border-box;top: 0;bottom: 0;left: 50%;z-index: 0;}#sk-container-id-1 div.sk-serial {display: flex;flex-direction: column;align-items: center;background-color: white;padding-right: 0.2em;padding-left: 0.2em;position: relative;}#sk-container-id-1 div.sk-item {position: relative;z-index: 1;}#sk-container-id-1 div.sk-parallel {display: flex;align-items: stretch;justify-content: center;background-color: white;position: relative;}#sk-container-id-1 div.sk-item::before, #sk-container-id-1 div.sk-parallel-item::before {content: \"\";position: absolute;border-left: 1px solid gray;box-sizing: border-box;top: 0;bottom: 0;left: 50%;z-index: -1;}#sk-container-id-1 div.sk-parallel-item {display: flex;flex-direction: column;z-index: 1;position: relative;background-color: white;}#sk-container-id-1 div.sk-parallel-item:first-child::after {align-self: flex-end;width: 50%;}#sk-container-id-1 div.sk-parallel-item:last-child::after {align-self: flex-start;width: 50%;}#sk-container-id-1 div.sk-parallel-item:only-child::after {width: 0;}#sk-container-id-1 div.sk-dashed-wrapped {border: 1px dashed gray;margin: 0 0.4em 0.5em 0.4em;box-sizing: border-box;padding-bottom: 0.4em;background-color: white;}#sk-container-id-1 div.sk-label label {font-family: monospace;font-weight: bold;display: inline-block;line-height: 1.2em;}#sk-container-id-1 div.sk-label-container {text-align: center;}#sk-container-id-1 div.sk-container {/* jupyter's `normalize.less` sets `[hidden] { display: none; }` but bootstrap.min.css set `[hidden] { display: none !important; }` so we also need the `!important` here to be able to override the default hidden behavior on the sphinx rendered scikit-learn.org. See: https://github.com/scikit-learn/scikit-learn/issues/21755 */display: inline-block !important;position: relative;}#sk-container-id-1 div.sk-text-repr-fallback {display: none;}</style><div id=\"sk-container-id-1\" class=\"sk-top-container\"><div class=\"sk-text-repr-fallback\"><pre>Pipeline(steps=[(&#x27;countvectorizer&#x27;,\n",
       "                 CountVectorizer(lowercase=False, ngram_range=(1, 3),\n",
       "                                 stop_words=&#x27;english&#x27;)),\n",
       "                (&#x27;sgdclassifier&#x27;, SGDClassifier(max_iter=100, tol=None))])</pre><b>In a Jupyter environment, please rerun this cell to show the HTML representation or trust the notebook. <br />On GitHub, the HTML representation is unable to render, please try loading this page with nbviewer.org.</b></div><div class=\"sk-container\" hidden><div class=\"sk-item sk-dashed-wrapped\"><div class=\"sk-label-container\"><div class=\"sk-label sk-toggleable\"><input class=\"sk-toggleable__control sk-hidden--visually\" id=\"sk-estimator-id-1\" type=\"checkbox\" ><label for=\"sk-estimator-id-1\" class=\"sk-toggleable__label sk-toggleable__label-arrow\">Pipeline</label><div class=\"sk-toggleable__content\"><pre>Pipeline(steps=[(&#x27;countvectorizer&#x27;,\n",
       "                 CountVectorizer(lowercase=False, ngram_range=(1, 3),\n",
       "                                 stop_words=&#x27;english&#x27;)),\n",
       "                (&#x27;sgdclassifier&#x27;, SGDClassifier(max_iter=100, tol=None))])</pre></div></div></div><div class=\"sk-serial\"><div class=\"sk-item\"><div class=\"sk-estimator sk-toggleable\"><input class=\"sk-toggleable__control sk-hidden--visually\" id=\"sk-estimator-id-2\" type=\"checkbox\" ><label for=\"sk-estimator-id-2\" class=\"sk-toggleable__label sk-toggleable__label-arrow\">CountVectorizer</label><div class=\"sk-toggleable__content\"><pre>CountVectorizer(lowercase=False, ngram_range=(1, 3), stop_words=&#x27;english&#x27;)</pre></div></div></div><div class=\"sk-item\"><div class=\"sk-estimator sk-toggleable\"><input class=\"sk-toggleable__control sk-hidden--visually\" id=\"sk-estimator-id-3\" type=\"checkbox\" ><label for=\"sk-estimator-id-3\" class=\"sk-toggleable__label sk-toggleable__label-arrow\">SGDClassifier</label><div class=\"sk-toggleable__content\"><pre>SGDClassifier(max_iter=100, tol=None)</pre></div></div></div></div></div></div></div>"
      ],
      "text/plain": [
       "Pipeline(steps=[('countvectorizer',\n",
       "                 CountVectorizer(lowercase=False, ngram_range=(1, 3),\n",
       "                                 stop_words='english')),\n",
       "                ('sgdclassifier', SGDClassifier(max_iter=100, tol=None))])"
      ]
     },
     "execution_count": 23,
     "metadata": {},
     "output_type": "execute_result"
    }
   ],
   "source": [
    "%time pipe_svm.fit(X_train, y_train)"
   ]
  },
  {
   "cell_type": "code",
   "execution_count": 24,
   "id": "8e039216-bec5-4614-bff0-85677b0a222c",
   "metadata": {},
   "outputs": [],
   "source": [
    "y_pred = pipe_svm.predict(X_test)"
   ]
  },
  {
   "cell_type": "code",
   "execution_count": 25,
   "id": "7531a476-903e-4f59-9659-64b95d049ce4",
   "metadata": {},
   "outputs": [
    {
     "name": "stdout",
     "output_type": "stream",
     "text": [
      "0.9733771312372907\n"
     ]
    }
   ],
   "source": [
    "# calculate accuracy of class predictions\n",
    "print(metrics.accuracy_score(y_test, y_pred))"
   ]
  },
  {
   "cell_type": "code",
   "execution_count": 26,
   "id": "edcd98f3-7736-4aaa-8477-1922d3928b5a",
   "metadata": {},
   "outputs": [
    {
     "name": "stdout",
     "output_type": "stream",
     "text": [
      "              precision    recall  f1-score   support\n",
      "\n",
      "           0       0.97      0.97      0.97     32016\n",
      "           1       0.97      0.97      0.97     31914\n",
      "\n",
      "    accuracy                           0.97     63930\n",
      "   macro avg       0.97      0.97      0.97     63930\n",
      "weighted avg       0.97      0.97      0.97     63930\n",
      "\n"
     ]
    }
   ],
   "source": [
    "# calculate precision and recall\n",
    "print(classification_report(y_test, y_pred))"
   ]
  },
  {
   "cell_type": "code",
   "execution_count": 27,
   "id": "1ccb166f-4455-4038-af86-535b32a2c110",
   "metadata": {},
   "outputs": [
    {
     "name": "stdout",
     "output_type": "stream",
     "text": [
      "CPU times: user 1min 14s, sys: 1.7 s, total: 1min 15s\n",
      "Wall time: 1min 16s\n"
     ]
    },
    {
     "data": {
      "text/plain": [
       "['/home/jupyter/data/yelp/yelp_model/svm_large.joblib']"
      ]
     },
     "execution_count": 27,
     "metadata": {},
     "output_type": "execute_result"
    }
   ],
   "source": [
    "%time dump(pipe_svm, \"/home/jupyter/data/yelp/yelp_model/svm_large.joblib\")"
   ]
  },
  {
   "cell_type": "markdown",
   "id": "ef1ff63d-b017-428e-b36c-a36fd4be9acd",
   "metadata": {},
   "source": [
    "### Applying this Trained Yelp Model to Our Dataset"
   ]
  },
  {
   "cell_type": "code",
   "execution_count": 28,
   "id": "77c4fbfc-7347-4877-9090-9b55ff67708f",
   "metadata": {},
   "outputs": [
    {
     "name": "stdout",
     "output_type": "stream",
     "text": [
      "CPU times: user 37.5 s, sys: 1.77 s, total: 39.3 s\n",
      "Wall time: 39.3 s\n"
     ]
    }
   ],
   "source": [
    "%time clf_large = load('/home/jupyter/data/yelp/yelp_model/svm_large.joblib')"
   ]
  },
  {
   "cell_type": "code",
   "execution_count": 29,
   "id": "b42b4f82-413a-4a5b-9cbc-cfb3791fe7cf",
   "metadata": {},
   "outputs": [],
   "source": [
    "import pickle\n",
    "\n",
    "# Open the pickle file in binary mode\n",
    "with open('keyword_based_filtered_articles_using_re.pkl', 'rb') as file:\n",
    "    # Load the object from the pickle file\n",
    "    filtered_news = pickle.load(file)\n",
    "df_news = filtered_news"
   ]
  },
  {
   "cell_type": "code",
   "execution_count": 30,
   "id": "ecf7de02-489a-4eb9-a0e1-bcaf742d6764",
   "metadata": {},
   "outputs": [
    {
     "data": {
      "text/plain": [
       "(134039, 6)"
      ]
     },
     "execution_count": 30,
     "metadata": {},
     "output_type": "execute_result"
    }
   ],
   "source": [
    "df_news.shape"
   ]
  },
  {
   "cell_type": "code",
   "execution_count": 31,
   "id": "4600797f-c200-4742-a1d1-cb6a4e47a417",
   "metadata": {},
   "outputs": [
    {
     "name": "stdout",
     "output_type": "stream",
     "text": [
      "CPU times: user 3min 3s, sys: 622 ms, total: 3min 3s\n",
      "Wall time: 3min 3s\n"
     ]
    }
   ],
   "source": [
    "%time y_pred = clf_large.predict(df_news['clean_text'])\n",
    "y_pred_class = np.where(y_pred < 0.5, 'Negative', 'Positive')\n",
    "y_pred_prob = clf_large.decision_function(df_news['clean_text'])"
   ]
  },
  {
   "cell_type": "code",
   "execution_count": 39,
   "id": "ae5be3d4-a3b9-43f9-aaf7-ca70d7880581",
   "metadata": {},
   "outputs": [
    {
     "name": "stdout",
     "output_type": "stream",
     "text": [
      "<class 'pandas.core.frame.DataFrame'>\n",
      "Index: 134039 entries, 0 to 200329\n",
      "Data columns (total 6 columns):\n",
      " #   Column      Non-Null Count   Dtype \n",
      "---  ------      --------------   ----- \n",
      " 0   url         134039 non-null  object\n",
      " 1   date        134039 non-null  object\n",
      " 2   language    134039 non-null  object\n",
      " 3   title       134039 non-null  object\n",
      " 4   text        134039 non-null  object\n",
      " 5   clean_text  134039 non-null  object\n",
      "dtypes: object(6)\n",
      "memory usage: 7.2+ MB\n"
     ]
    }
   ],
   "source": [
    "df_news.info()"
   ]
  },
  {
   "cell_type": "code",
   "execution_count": 40,
   "id": "c58fe6b7-87d3-4782-a0d1-09dc245326e2",
   "metadata": {},
   "outputs": [
    {
     "name": "stdout",
     "output_type": "stream",
     "text": [
      "CPU times: user 29.5 ms, sys: 3.91 ms, total: 33.4 ms\n",
      "Wall time: 31.9 ms\n"
     ]
    }
   ],
   "source": [
    "%%time\n",
    "\n",
    "import pandas as pd\n",
    "import numpy as np\n",
    "\n",
    "# Apply the sigmoid function to obtain valid probabilities\n",
    "prob_pos = 1 / (1 + np.exp(-y_pred_prob))\n",
    "prob_neg = 1 - prob_pos\n",
    "\n",
    "# Create the DataFrame\n",
    "data = {\n",
    "    'date': df_news['date'],\n",
    "    'title': df_news['title'],\n",
    "    'clean_text': df_news['clean_text'],\n",
    "    'sentiment_type': y_pred_class,\n",
    "    'prob_neg': prob_neg,\n",
    "    'prob_pos': prob_pos\n",
    "}\n",
    "\n",
    "df_result = pd.DataFrame(data)"
   ]
  },
  {
   "cell_type": "code",
   "execution_count": 41,
   "id": "ac992d43-e35a-4e03-bd0f-b1f7b6bb4d82",
   "metadata": {},
   "outputs": [],
   "source": [
    "import pandas as pd\n",
    "pd.set_option('display.max_rows', 500)\n",
    "pd.set_option('display.max_columns', 500)\n",
    "pd.set_option('display.width', None)"
   ]
  },
  {
   "cell_type": "code",
   "execution_count": 42,
   "id": "0ca53164-4b2d-47a2-aac4-a9e9590cc1b4",
   "metadata": {},
   "outputs": [
    {
     "data": {
      "text/html": [
       "<div>\n",
       "<style scoped>\n",
       "    .dataframe tbody tr th:only-of-type {\n",
       "        vertical-align: middle;\n",
       "    }\n",
       "\n",
       "    .dataframe tbody tr th {\n",
       "        vertical-align: top;\n",
       "    }\n",
       "\n",
       "    .dataframe thead th {\n",
       "        text-align: right;\n",
       "    }\n",
       "</style>\n",
       "<table border=\"1\" class=\"dataframe\">\n",
       "  <thead>\n",
       "    <tr style=\"text-align: right;\">\n",
       "      <th></th>\n",
       "      <th>date</th>\n",
       "      <th>title</th>\n",
       "      <th>clean_text</th>\n",
       "      <th>sentiment_type</th>\n",
       "      <th>prob_neg</th>\n",
       "      <th>prob_pos</th>\n",
       "    </tr>\n",
       "  </thead>\n",
       "  <tbody>\n",
       "    <tr>\n",
       "      <th>0</th>\n",
       "      <td>2021-03-18</td>\n",
       "      <td>Artificial intelligence improves parking efficiency in Chinese cities - People's Daily Online</td>\n",
       "      <td>Some urban areas of the city started to use ETC system for roadside parking spaces since July , . (People’s Daily Online/Li Wenming) Thanks to the application of an artificial intelligence (AI)-em...</td>\n",
       "      <td>Negative</td>\n",
       "      <td>0.660940</td>\n",
       "      <td>0.339060</td>\n",
       "    </tr>\n",
       "    <tr>\n",
       "      <th>2</th>\n",
       "      <td>2021-03-26</td>\n",
       "      <td>Forget ML, AI and Industry 4.0 – obsolescence should be your focus - 26 February 2021 - Test &amp; Rework Solutions - Dataweek</td>\n",
       "      <td>The world entered a new era of accelerated transformation in the last eighteen months that will continue to evolve and press forward for years to come. Most businesses are playing catch-up trying ...</td>\n",
       "      <td>Positive</td>\n",
       "      <td>0.255745</td>\n",
       "      <td>0.744255</td>\n",
       "    </tr>\n",
       "    <tr>\n",
       "      <th>3</th>\n",
       "      <td>2021-03-10</td>\n",
       "      <td>Strategy Analytics: 71% of Smartphones Sold Globally in 2021 will be AI Powered – Consumer Electronics Net</td>\n",
       "      <td>AI is used in various functions inside smartphones such as intelligent power optimization, imaging, virtual assistants, and to enhance device performance. The report highlights the fact that AI ha...</td>\n",
       "      <td>Positive</td>\n",
       "      <td>0.342625</td>\n",
       "      <td>0.657375</td>\n",
       "    </tr>\n",
       "    <tr>\n",
       "      <th>7</th>\n",
       "      <td>2021-02-25</td>\n",
       "      <td>MulticoreWare Inc. Becomes CEVA’s Trusted Partner for Imaging &amp; Computer Vision – Consumer Electronics Net</td>\n",
       "      <td>MulticoreWare Inc. Becomes CEVA’s Trusted Partner for Imaging &amp; Computer Vision – Consumer Electronics Net Skip to content Consumer Electronics Net Primary Menu Consumer Electronics Net Search for...</td>\n",
       "      <td>Negative</td>\n",
       "      <td>0.669762</td>\n",
       "      <td>0.330238</td>\n",
       "    </tr>\n",
       "    <tr>\n",
       "      <th>9</th>\n",
       "      <td>2020-06-14</td>\n",
       "      <td>Artificial Intelligence In Behavioral And Mental Health Care Market to Witness Astonishing Growth by 2026 Focusing on Leading Players – AdvancedMD , Cerner , Core Solutions , Credible Behavioral H...</td>\n",
       "      <td>It uses several approaches for analyzing the data of target market such as primary and secondary research methodologies. It includes investigations based on historical records, current statistics,...</td>\n",
       "      <td>Positive</td>\n",
       "      <td>0.081610</td>\n",
       "      <td>0.918390</td>\n",
       "    </tr>\n",
       "    <tr>\n",
       "      <th>10</th>\n",
       "      <td>2020-07-10</td>\n",
       "      <td>AI/ Machine Learning Market 2020 Expected to Reach $XX Million by 2024 – IBM, BAIDU, SOUNDHOUND, ZEBRA MEDICAL VISION, PRISMA, IRIS AI – 3w Market News Reports</td>\n",
       "      <td>These vital market oriented details are highly crucial to overcome cut throat competition and all the growth oriented practices typically embraced by frontline players in the AI/ Machine Learning ...</td>\n",
       "      <td>Negative</td>\n",
       "      <td>0.762503</td>\n",
       "      <td>0.237497</td>\n",
       "    </tr>\n",
       "    <tr>\n",
       "      <th>11</th>\n",
       "      <td>2020-03-16</td>\n",
       "      <td>According to Latest Report on Machine Learning Courses Market to Grow with an Impressive CAGR: Top Key Players – EdX, Ivy Professional School, NobleProg, etc. – 3rd Watch News</td>\n",
       "      <td>According to Latest Report on Machine Learning Courses Market to Grow with an Impressive CAGR: Top Key Players – EdX, Ivy Professional School, NobleProg, etc. – rd Watch News Contact Us About Us r...</td>\n",
       "      <td>Positive</td>\n",
       "      <td>0.017054</td>\n",
       "      <td>0.982946</td>\n",
       "    </tr>\n",
       "    <tr>\n",
       "      <th>13</th>\n",
       "      <td>2021-03-26</td>\n",
       "      <td>Apple bought more AI companies than anyone else between 2016 and 2020 - 9to5Mac</td>\n",
       "      <td>th  : pm PT @filipeesposito  Once in a while, Apple announces the acquisition of another company or startup, but now, new research from GlobalData shows that Apple is in fact investing heavily in ...</td>\n",
       "      <td>Positive</td>\n",
       "      <td>0.070048</td>\n",
       "      <td>0.929952</td>\n",
       "    </tr>\n",
       "    <tr>\n",
       "      <th>14</th>\n",
       "      <td>2023-04-06</td>\n",
       "      <td>Video Trump deepfakes on social media prompt warnings of AI risks - ABC News</td>\n",
       "      <td>Video Trump deepfakes on social media prompt warnings of AI risks - ABC News ABC in AmericaInterest Successfully AddedWe'll notify you here with news aboutTurn on desktop notifications for breakin...</td>\n",
       "      <td>Negative</td>\n",
       "      <td>0.596936</td>\n",
       "      <td>0.403064</td>\n",
       "    </tr>\n",
       "    <tr>\n",
       "      <th>15</th>\n",
       "      <td>2020-02-19</td>\n",
       "      <td>EU imposes sweeping regulations on facial recognition, Artificial Intelligence  Video - ABC News</td>\n",
       "      <td>EU imposes sweeping regulations on facial recognition, Artificial Intelligence Video - ABC News Sections Sections Top Stories Video Live U.S. Politics  Elections International Entertainment Busine...</td>\n",
       "      <td>Negative</td>\n",
       "      <td>0.985797</td>\n",
       "      <td>0.014203</td>\n",
       "    </tr>\n",
       "  </tbody>\n",
       "</table>\n",
       "</div>"
      ],
      "text/plain": [
       "          date   \n",
       "0   2021-03-18  \\\n",
       "2   2021-03-26   \n",
       "3   2021-03-10   \n",
       "7   2021-02-25   \n",
       "9   2020-06-14   \n",
       "10  2020-07-10   \n",
       "11  2020-03-16   \n",
       "13  2021-03-26   \n",
       "14  2023-04-06   \n",
       "15  2020-02-19   \n",
       "\n",
       "                                                                                                                                                                                                      title   \n",
       "0                                                                                                             Artificial intelligence improves parking efficiency in Chinese cities - People's Daily Online  \\\n",
       "2                                                                                Forget ML, AI and Industry 4.0 – obsolescence should be your focus - 26 February 2021 - Test & Rework Solutions - Dataweek   \n",
       "3                                                                                                Strategy Analytics: 71% of Smartphones Sold Globally in 2021 will be AI Powered – Consumer Electronics Net   \n",
       "7                                                                                                MulticoreWare Inc. Becomes CEVA’s Trusted Partner for Imaging & Computer Vision – Consumer Electronics Net   \n",
       "9   Artificial Intelligence In Behavioral And Mental Health Care Market to Witness Astonishing Growth by 2026 Focusing on Leading Players – AdvancedMD , Cerner , Core Solutions , Credible Behavioral H...   \n",
       "10                                          AI/ Machine Learning Market 2020 Expected to Reach $XX Million by 2024 – IBM, BAIDU, SOUNDHOUND, ZEBRA MEDICAL VISION, PRISMA, IRIS AI – 3w Market News Reports   \n",
       "11                          According to Latest Report on Machine Learning Courses Market to Grow with an Impressive CAGR: Top Key Players – EdX, Ivy Professional School, NobleProg, etc. – 3rd Watch News   \n",
       "13                                                                                                                          Apple bought more AI companies than anyone else between 2016 and 2020 - 9to5Mac   \n",
       "14                                                                                                                             Video Trump deepfakes on social media prompt warnings of AI risks - ABC News   \n",
       "15                                                                                                         EU imposes sweeping regulations on facial recognition, Artificial Intelligence  Video - ABC News   \n",
       "\n",
       "                                                                                                                                                                                                 clean_text   \n",
       "0   Some urban areas of the city started to use ETC system for roadside parking spaces since July , . (People’s Daily Online/Li Wenming) Thanks to the application of an artificial intelligence (AI)-em...  \\\n",
       "2   The world entered a new era of accelerated transformation in the last eighteen months that will continue to evolve and press forward for years to come. Most businesses are playing catch-up trying ...   \n",
       "3   AI is used in various functions inside smartphones such as intelligent power optimization, imaging, virtual assistants, and to enhance device performance. The report highlights the fact that AI ha...   \n",
       "7   MulticoreWare Inc. Becomes CEVA’s Trusted Partner for Imaging & Computer Vision – Consumer Electronics Net Skip to content Consumer Electronics Net Primary Menu Consumer Electronics Net Search for...   \n",
       "9   It uses several approaches for analyzing the data of target market such as primary and secondary research methodologies. It includes investigations based on historical records, current statistics,...   \n",
       "10  These vital market oriented details are highly crucial to overcome cut throat competition and all the growth oriented practices typically embraced by frontline players in the AI/ Machine Learning ...   \n",
       "11  According to Latest Report on Machine Learning Courses Market to Grow with an Impressive CAGR: Top Key Players – EdX, Ivy Professional School, NobleProg, etc. – rd Watch News Contact Us About Us r...   \n",
       "13  th  : pm PT @filipeesposito  Once in a while, Apple announces the acquisition of another company or startup, but now, new research from GlobalData shows that Apple is in fact investing heavily in ...   \n",
       "14  Video Trump deepfakes on social media prompt warnings of AI risks - ABC News ABC in AmericaInterest Successfully AddedWe'll notify you here with news aboutTurn on desktop notifications for breakin...   \n",
       "15  EU imposes sweeping regulations on facial recognition, Artificial Intelligence Video - ABC News Sections Sections Top Stories Video Live U.S. Politics  Elections International Entertainment Busine...   \n",
       "\n",
       "   sentiment_type  prob_neg  prob_pos  \n",
       "0        Negative  0.660940  0.339060  \n",
       "2        Positive  0.255745  0.744255  \n",
       "3        Positive  0.342625  0.657375  \n",
       "7        Negative  0.669762  0.330238  \n",
       "9        Positive  0.081610  0.918390  \n",
       "10       Negative  0.762503  0.237497  \n",
       "11       Positive  0.017054  0.982946  \n",
       "13       Positive  0.070048  0.929952  \n",
       "14       Negative  0.596936  0.403064  \n",
       "15       Negative  0.985797  0.014203  "
      ]
     },
     "execution_count": 42,
     "metadata": {},
     "output_type": "execute_result"
    }
   ],
   "source": [
    "df_result.head(10)"
   ]
  },
  {
   "cell_type": "code",
   "execution_count": 43,
   "id": "a61f65e3-76b8-4e04-b665-456b2eb38560",
   "metadata": {},
   "outputs": [
    {
     "data": {
      "text/plain": [
       "sentiment_type\n",
       "Negative    72069\n",
       "Positive    61970\n",
       "Name: count, dtype: int64"
      ]
     },
     "execution_count": 43,
     "metadata": {},
     "output_type": "execute_result"
    }
   ],
   "source": [
    "df_result['sentiment_type'].value_counts()"
   ]
  },
  {
   "cell_type": "code",
   "execution_count": 44,
   "id": "36c4a106-8c4b-4f43-8716-11f2fb42d12b",
   "metadata": {},
   "outputs": [],
   "source": [
    "import pandas as pd\n",
    "import pickle\n",
    "\n",
    "# Write the filtered_news dataframe to a pickle filev \n",
    "df_result.to_pickle('yelp_cust_lex_df.pkl')"
   ]
  },
  {
   "cell_type": "code",
   "execution_count": 77,
   "id": "aab17d07-311a-401f-b43f-31f4ebae6a03",
   "metadata": {},
   "outputs": [
    {
     "name": "stdout",
     "output_type": "stream",
     "text": [
      "<class 'pandas.core.frame.DataFrame'>\n",
      "Index: 134039 entries, 0 to 200329\n",
      "Data columns (total 8 columns):\n",
      " #   Column          Non-Null Count   Dtype         \n",
      "---  ------          --------------   -----         \n",
      " 0   date            134039 non-null  datetime64[ns]\n",
      " 1   title           134039 non-null  object        \n",
      " 2   clean_text      134039 non-null  object        \n",
      " 3   sentiment_type  134039 non-null  object        \n",
      " 4   prob_neg        134039 non-null  float64       \n",
      " 5   prob_pos        134039 non-null  float64       \n",
      " 6   year            134039 non-null  int32         \n",
      " 7   month           134039 non-null  int32         \n",
      "dtypes: datetime64[ns](1), float64(2), int32(2), object(3)\n",
      "memory usage: 8.2+ MB\n"
     ]
    }
   ],
   "source": [
    "df_result.info()"
   ]
  },
  {
   "cell_type": "code",
   "execution_count": 199,
   "id": "ed5bafa6-6d38-46b8-8352-61eb4b4b697f",
   "metadata": {},
   "outputs": [],
   "source": [
    "df = df_result"
   ]
  },
  {
   "cell_type": "code",
   "execution_count": 172,
   "id": "864ba527-ec07-4f54-a7d2-cbf886f3c4c4",
   "metadata": {},
   "outputs": [],
   "source": [
    "df['date'] = pd.to_datetime(df['date'])"
   ]
  },
  {
   "cell_type": "code",
   "execution_count": 131,
   "id": "5fc07db9-232c-41de-a82f-808b8aaa59e7",
   "metadata": {},
   "outputs": [
    {
     "data": {
      "text/html": [
       "<div>\n",
       "<style scoped>\n",
       "    .dataframe tbody tr th:only-of-type {\n",
       "        vertical-align: middle;\n",
       "    }\n",
       "\n",
       "    .dataframe tbody tr th {\n",
       "        vertical-align: top;\n",
       "    }\n",
       "\n",
       "    .dataframe thead th {\n",
       "        text-align: right;\n",
       "    }\n",
       "</style>\n",
       "<table border=\"1\" class=\"dataframe\">\n",
       "  <thead>\n",
       "    <tr style=\"text-align: right;\">\n",
       "      <th></th>\n",
       "      <th>title</th>\n",
       "      <th>clean_text</th>\n",
       "      <th>sentiment_type</th>\n",
       "      <th>prob_neg</th>\n",
       "      <th>prob_pos</th>\n",
       "      <th>year</th>\n",
       "      <th>month</th>\n",
       "      <th>date</th>\n",
       "    </tr>\n",
       "    <tr>\n",
       "      <th>date</th>\n",
       "      <th></th>\n",
       "      <th></th>\n",
       "      <th></th>\n",
       "      <th></th>\n",
       "      <th></th>\n",
       "      <th></th>\n",
       "      <th></th>\n",
       "      <th></th>\n",
       "    </tr>\n",
       "  </thead>\n",
       "  <tbody>\n",
       "    <tr>\n",
       "      <th>2021-03-18</th>\n",
       "      <td>Artificial intelligence improves parking efficiency in Chinese cities - People's Daily Online</td>\n",
       "      <td>Some urban areas of the city started to use ETC system for roadside parking spaces since July , . (People’s Daily Online/Li Wenming) Thanks to the application of an artificial intelligence (AI)-em...</td>\n",
       "      <td>Negative</td>\n",
       "      <td>0.660940</td>\n",
       "      <td>0.339060</td>\n",
       "      <td>2021</td>\n",
       "      <td>3</td>\n",
       "      <td>2021-03-18</td>\n",
       "    </tr>\n",
       "    <tr>\n",
       "      <th>2021-03-26</th>\n",
       "      <td>Forget ML, AI and Industry 4.0 – obsolescence should be your focus - 26 February 2021 - Test &amp; Rework Solutions - Dataweek</td>\n",
       "      <td>The world entered a new era of accelerated transformation in the last eighteen months that will continue to evolve and press forward for years to come. Most businesses are playing catch-up trying ...</td>\n",
       "      <td>Positive</td>\n",
       "      <td>0.255745</td>\n",
       "      <td>0.744255</td>\n",
       "      <td>2021</td>\n",
       "      <td>3</td>\n",
       "      <td>2021-03-26</td>\n",
       "    </tr>\n",
       "  </tbody>\n",
       "</table>\n",
       "</div>"
      ],
      "text/plain": [
       "                                                                                                                                 title   \n",
       "date                                                                                                                                     \n",
       "2021-03-18                               Artificial intelligence improves parking efficiency in Chinese cities - People's Daily Online  \\\n",
       "2021-03-26  Forget ML, AI and Industry 4.0 – obsolescence should be your focus - 26 February 2021 - Test & Rework Solutions - Dataweek   \n",
       "\n",
       "                                                                                                                                                                                                         clean_text   \n",
       "date                                                                                                                                                                                                                  \n",
       "2021-03-18  Some urban areas of the city started to use ETC system for roadside parking spaces since July , . (People’s Daily Online/Li Wenming) Thanks to the application of an artificial intelligence (AI)-em...  \\\n",
       "2021-03-26  The world entered a new era of accelerated transformation in the last eighteen months that will continue to evolve and press forward for years to come. Most businesses are playing catch-up trying ...   \n",
       "\n",
       "           sentiment_type  prob_neg  prob_pos  year  month       date  \n",
       "date                                                                   \n",
       "2021-03-18       Negative  0.660940  0.339060  2021      3 2021-03-18  \n",
       "2021-03-26       Positive  0.255745  0.744255  2021      3 2021-03-26  "
      ]
     },
     "execution_count": 131,
     "metadata": {},
     "output_type": "execute_result"
    }
   ],
   "source": [
    "df.head(2)"
   ]
  },
  {
   "cell_type": "code",
   "execution_count": 132,
   "id": "546f65c4-730a-40e7-b100-2edb4063dedf",
   "metadata": {},
   "outputs": [],
   "source": [
    "df['year'] = df['date'].dt.year\n",
    "df['month'] = df['date'].dt.month"
   ]
  },
  {
   "cell_type": "code",
   "execution_count": 133,
   "id": "7ac79fa9-3a77-4f5d-9cac-8058a0dd163b",
   "metadata": {},
   "outputs": [
    {
     "data": {
      "text/html": [
       "<div>\n",
       "<style scoped>\n",
       "    .dataframe tbody tr th:only-of-type {\n",
       "        vertical-align: middle;\n",
       "    }\n",
       "\n",
       "    .dataframe tbody tr th {\n",
       "        vertical-align: top;\n",
       "    }\n",
       "\n",
       "    .dataframe thead th {\n",
       "        text-align: right;\n",
       "    }\n",
       "</style>\n",
       "<table border=\"1\" class=\"dataframe\">\n",
       "  <thead>\n",
       "    <tr style=\"text-align: right;\">\n",
       "      <th></th>\n",
       "      <th>title</th>\n",
       "      <th>clean_text</th>\n",
       "      <th>sentiment_type</th>\n",
       "      <th>prob_neg</th>\n",
       "      <th>prob_pos</th>\n",
       "      <th>year</th>\n",
       "      <th>month</th>\n",
       "      <th>date</th>\n",
       "    </tr>\n",
       "    <tr>\n",
       "      <th>date</th>\n",
       "      <th></th>\n",
       "      <th></th>\n",
       "      <th></th>\n",
       "      <th></th>\n",
       "      <th></th>\n",
       "      <th></th>\n",
       "      <th></th>\n",
       "      <th></th>\n",
       "    </tr>\n",
       "  </thead>\n",
       "  <tbody>\n",
       "    <tr>\n",
       "      <th>2021-03-18</th>\n",
       "      <td>Artificial intelligence improves parking efficiency in Chinese cities - People's Daily Online</td>\n",
       "      <td>Some urban areas of the city started to use ETC system for roadside parking spaces since July , . (People’s Daily Online/Li Wenming) Thanks to the application of an artificial intelligence (AI)-em...</td>\n",
       "      <td>Negative</td>\n",
       "      <td>0.660940</td>\n",
       "      <td>0.339060</td>\n",
       "      <td>2021</td>\n",
       "      <td>3</td>\n",
       "      <td>2021-03-18</td>\n",
       "    </tr>\n",
       "    <tr>\n",
       "      <th>2021-03-26</th>\n",
       "      <td>Forget ML, AI and Industry 4.0 – obsolescence should be your focus - 26 February 2021 - Test &amp; Rework Solutions - Dataweek</td>\n",
       "      <td>The world entered a new era of accelerated transformation in the last eighteen months that will continue to evolve and press forward for years to come. Most businesses are playing catch-up trying ...</td>\n",
       "      <td>Positive</td>\n",
       "      <td>0.255745</td>\n",
       "      <td>0.744255</td>\n",
       "      <td>2021</td>\n",
       "      <td>3</td>\n",
       "      <td>2021-03-26</td>\n",
       "    </tr>\n",
       "  </tbody>\n",
       "</table>\n",
       "</div>"
      ],
      "text/plain": [
       "                                                                                                                                 title   \n",
       "date                                                                                                                                     \n",
       "2021-03-18                               Artificial intelligence improves parking efficiency in Chinese cities - People's Daily Online  \\\n",
       "2021-03-26  Forget ML, AI and Industry 4.0 – obsolescence should be your focus - 26 February 2021 - Test & Rework Solutions - Dataweek   \n",
       "\n",
       "                                                                                                                                                                                                         clean_text   \n",
       "date                                                                                                                                                                                                                  \n",
       "2021-03-18  Some urban areas of the city started to use ETC system for roadside parking spaces since July , . (People’s Daily Online/Li Wenming) Thanks to the application of an artificial intelligence (AI)-em...  \\\n",
       "2021-03-26  The world entered a new era of accelerated transformation in the last eighteen months that will continue to evolve and press forward for years to come. Most businesses are playing catch-up trying ...   \n",
       "\n",
       "           sentiment_type  prob_neg  prob_pos  year  month       date  \n",
       "date                                                                   \n",
       "2021-03-18       Negative  0.660940  0.339060  2021      3 2021-03-18  \n",
       "2021-03-26       Positive  0.255745  0.744255  2021      3 2021-03-26  "
      ]
     },
     "execution_count": 133,
     "metadata": {},
     "output_type": "execute_result"
    }
   ],
   "source": [
    "df.head(2)"
   ]
  },
  {
   "cell_type": "code",
   "execution_count": 134,
   "id": "02e9f39c-1059-4fae-812e-c14ae35133c2",
   "metadata": {},
   "outputs": [
    {
     "name": "stdout",
     "output_type": "stream",
     "text": [
      "<class 'pandas.core.frame.DataFrame'>\n",
      "DatetimeIndex: 134039 entries, 2021-03-18 to 2020-12-22\n",
      "Data columns (total 8 columns):\n",
      " #   Column          Non-Null Count   Dtype         \n",
      "---  ------          --------------   -----         \n",
      " 0   title           134039 non-null  object        \n",
      " 1   clean_text      134039 non-null  object        \n",
      " 2   sentiment_type  134039 non-null  object        \n",
      " 3   prob_neg        134039 non-null  float64       \n",
      " 4   prob_pos        134039 non-null  float64       \n",
      " 5   year            134039 non-null  int32         \n",
      " 6   month           134039 non-null  int32         \n",
      " 7   date            134039 non-null  datetime64[ns]\n",
      "dtypes: datetime64[ns](1), float64(2), int32(2), object(3)\n",
      "memory usage: 8.2+ MB\n"
     ]
    }
   ],
   "source": [
    "df.info()"
   ]
  },
  {
   "cell_type": "code",
   "execution_count": 135,
   "id": "72137689-8f50-4cc4-bac8-5f0f8c0f85e5",
   "metadata": {},
   "outputs": [],
   "source": [
    "import matplotlib.pyplot as plt\n",
    "import seaborn as sns"
   ]
  },
  {
   "cell_type": "code",
   "execution_count": 136,
   "id": "e41ab3ad-e604-428a-ae4e-e94f3e20359e",
   "metadata": {},
   "outputs": [],
   "source": [
    "# Filter the data for the particular item\n",
    "filtered_df_pos = df[df['sentiment_type'] == 'Positive']\n",
    "filtered_df_neg = df[df['sentiment_type'] == 'Negative']\n",
    "\n",
    "# Group by year and count occurrences of the item\n",
    "grouped_df_pos = filtered_df_pos.groupby('year').size().reset_index(name='count')\n",
    "grouped_df_neg = filtered_df_neg.groupby('year').size().reset_index(name='count')"
   ]
  },
  {
   "cell_type": "code",
   "execution_count": 137,
   "id": "169b8959-6cdd-4623-9628-b245c1dd86ff",
   "metadata": {},
   "outputs": [],
   "source": [
    "grouped_df = pd.concat([grouped_df_pos, grouped_df_neg['count']], axis=1)"
   ]
  },
  {
   "cell_type": "code",
   "execution_count": 138,
   "id": "e752a4a4-d7e4-4ed1-a094-09ab42af259c",
   "metadata": {},
   "outputs": [
    {
     "data": {
      "text/html": [
       "<div>\n",
       "<style scoped>\n",
       "    .dataframe tbody tr th:only-of-type {\n",
       "        vertical-align: middle;\n",
       "    }\n",
       "\n",
       "    .dataframe tbody tr th {\n",
       "        vertical-align: top;\n",
       "    }\n",
       "\n",
       "    .dataframe thead th {\n",
       "        text-align: right;\n",
       "    }\n",
       "</style>\n",
       "<table border=\"1\" class=\"dataframe\">\n",
       "  <thead>\n",
       "    <tr style=\"text-align: right;\">\n",
       "      <th></th>\n",
       "      <th>year</th>\n",
       "      <th>pos_cnt</th>\n",
       "      <th>neg_cnt</th>\n",
       "    </tr>\n",
       "  </thead>\n",
       "  <tbody>\n",
       "    <tr>\n",
       "      <th>0</th>\n",
       "      <td>2020</td>\n",
       "      <td>12101</td>\n",
       "      <td>13809</td>\n",
       "    </tr>\n",
       "    <tr>\n",
       "      <th>1</th>\n",
       "      <td>2021</td>\n",
       "      <td>16128</td>\n",
       "      <td>16920</td>\n",
       "    </tr>\n",
       "    <tr>\n",
       "      <th>2</th>\n",
       "      <td>2022</td>\n",
       "      <td>20283</td>\n",
       "      <td>18952</td>\n",
       "    </tr>\n",
       "    <tr>\n",
       "      <th>3</th>\n",
       "      <td>2023</td>\n",
       "      <td>13458</td>\n",
       "      <td>22388</td>\n",
       "    </tr>\n",
       "  </tbody>\n",
       "</table>\n",
       "</div>"
      ],
      "text/plain": [
       "   year  pos_cnt  neg_cnt\n",
       "0  2020    12101    13809\n",
       "1  2021    16128    16920\n",
       "2  2022    20283    18952\n",
       "3  2023    13458    22388"
      ]
     },
     "execution_count": 138,
     "metadata": {},
     "output_type": "execute_result"
    }
   ],
   "source": [
    "grouped_df.columns = ['year', 'pos_cnt', 'neg_cnt']\n",
    "grouped_df.head()"
   ]
  },
  {
   "cell_type": "code",
   "execution_count": 139,
   "id": "d99a98e2-4354-442c-b99c-4c3ae57ab251",
   "metadata": {},
   "outputs": [
    {
     "data": {
      "image/png": "[encoded data removed]",
      "text/plain": [
       "<Figure size 640x480 with 1 Axes>"
      ]
     },
     "metadata": {},
     "output_type": "display_data"
    }
   ],
   "source": [
    "import matplotlib.pyplot as plt\n",
    "import seaborn as sns\n",
    "\n",
    "sns.lineplot(data=grouped_df, x='year', y='pos_cnt', label='Positive Sentiment')\n",
    "sns.lineplot(data=grouped_df,x='year',y='neg_cnt',  label='Negative Sentiment')\n",
    "plt.legend()\n",
    "plt.xlabel('Year')\n",
    "plt.ylabel('Sentiment Counts')\n",
    "plt.show()"
   ]
  },
  {
   "cell_type": "code",
   "execution_count": 203,
   "id": "4f786995-b579-4b1d-8423-d91c6eda4e79",
   "metadata": {},
   "outputs": [
    {
     "name": "stdout",
     "output_type": "stream",
     "text": [
      "<class 'pandas.core.frame.DataFrame'>\n",
      "DatetimeIndex: 134039 entries, 2021-03-18 to 2020-12-22\n",
      "Data columns (total 9 columns):\n",
      " #   Column          Non-Null Count   Dtype         \n",
      "---  ------          --------------   -----         \n",
      " 0   title           134039 non-null  object        \n",
      " 1   clean_text      134039 non-null  object        \n",
      " 2   sentiment_type  134039 non-null  object        \n",
      " 3   prob_neg        134039 non-null  float64       \n",
      " 4   prob_pos        134039 non-null  float64       \n",
      " 5   year            134039 non-null  int32         \n",
      " 6   month           134039 non-null  int32         \n",
      " 7   date            134039 non-null  datetime64[ns]\n",
      " 8   date_formatted  134039 non-null  datetime64[ns]\n",
      "dtypes: datetime64[ns](2), float64(2), int32(2), object(3)\n",
      "memory usage: 9.2+ MB\n"
     ]
    }
   ],
   "source": [
    "df = df_result\n",
    "df.info()"
   ]
  },
  {
   "cell_type": "code",
   "execution_count": 212,
   "id": "116be40a-0eff-4770-b082-6978c336dfa3",
   "metadata": {},
   "outputs": [],
   "source": [
    "with open('sent_yelp_scores.pkl', 'wb') as f:\n",
    "    pickle.dump(df, f)"
   ]
  },
  {
   "cell_type": "code",
   "execution_count": 204,
   "id": "5edeb60f-28f5-4c22-ab33-379ac012ef78",
   "metadata": {},
   "outputs": [],
   "source": [
    "import pandas as pd\n",
    "\n",
    "# Convert 'date' column to datetime\n",
    "df['date'] = pd.to_datetime(df['date'])\n",
    "df['date_formatted'] = df['date']\n",
    "# Set 'date' as the index\n",
    "df = df.set_index('date')\n",
    "\n",
    "# Resample on a weekly basis and calculate the mean of 'prob_pos'\n",
    "weekly_avg_prob_pos = df['prob_pos'].resample('W').mean()\n",
    "\n",
    "# Reset the index to convert it back to a regular column\n",
    "weekly_avg_prob_pos = weekly_avg_prob_pos.reset_index()"
   ]
  },
  {
   "cell_type": "code",
   "execution_count": 205,
   "id": "b7caa6f7-5d42-4187-b9ee-4ec2fc78f103",
   "metadata": {},
   "outputs": [
    {
     "data": {
      "text/html": [
       "<div>\n",
       "<style scoped>\n",
       "    .dataframe tbody tr th:only-of-type {\n",
       "        vertical-align: middle;\n",
       "    }\n",
       "\n",
       "    .dataframe tbody tr th {\n",
       "        vertical-align: top;\n",
       "    }\n",
       "\n",
       "    .dataframe thead th {\n",
       "        text-align: right;\n",
       "    }\n",
       "</style>\n",
       "<table border=\"1\" class=\"dataframe\">\n",
       "  <thead>\n",
       "    <tr style=\"text-align: right;\">\n",
       "      <th></th>\n",
       "      <th>date</th>\n",
       "      <th>prob_pos</th>\n",
       "    </tr>\n",
       "  </thead>\n",
       "  <tbody>\n",
       "    <tr>\n",
       "      <th>0</th>\n",
       "      <td>2020-01-05</td>\n",
       "      <td>0.392245</td>\n",
       "    </tr>\n",
       "    <tr>\n",
       "      <th>1</th>\n",
       "      <td>2020-01-12</td>\n",
       "      <td>0.502910</td>\n",
       "    </tr>\n",
       "    <tr>\n",
       "      <th>2</th>\n",
       "      <td>2020-01-19</td>\n",
       "      <td>0.448531</td>\n",
       "    </tr>\n",
       "  </tbody>\n",
       "</table>\n",
       "</div>"
      ],
      "text/plain": [
       "        date  prob_pos\n",
       "0 2020-01-05  0.392245\n",
       "1 2020-01-12  0.502910\n",
       "2 2020-01-19  0.448531"
      ]
     },
     "execution_count": 205,
     "metadata": {},
     "output_type": "execute_result"
    }
   ],
   "source": [
    "weekly_avg_prob_pos.head(3)"
   ]
  },
  {
   "cell_type": "code",
   "execution_count": 176,
   "id": "7b00738a-03fd-4617-a75c-309e70d1d361",
   "metadata": {},
   "outputs": [],
   "source": [
    "# Resample on a weekly basis and calculate the mean of 'prob_pos'\n",
    "weekly_avg_prob_neg= df['prob_neg'].resample('W').mean()\n",
    "\n",
    "# Reset the index to convert it back to a regular column\n",
    "weekly_avg_prob_neg = weekly_avg_prob_neg.reset_index()"
   ]
  },
  {
   "cell_type": "code",
   "execution_count": 177,
   "id": "b03a93ab-1bfe-499c-b56f-4823b63268c3",
   "metadata": {},
   "outputs": [
    {
     "data": {
      "text/html": [
       "<div>\n",
       "<style scoped>\n",
       "    .dataframe tbody tr th:only-of-type {\n",
       "        vertical-align: middle;\n",
       "    }\n",
       "\n",
       "    .dataframe tbody tr th {\n",
       "        vertical-align: top;\n",
       "    }\n",
       "\n",
       "    .dataframe thead th {\n",
       "        text-align: right;\n",
       "    }\n",
       "</style>\n",
       "<table border=\"1\" class=\"dataframe\">\n",
       "  <thead>\n",
       "    <tr style=\"text-align: right;\">\n",
       "      <th></th>\n",
       "      <th>date</th>\n",
       "      <th>prob_neg</th>\n",
       "    </tr>\n",
       "  </thead>\n",
       "  <tbody>\n",
       "    <tr>\n",
       "      <th>0</th>\n",
       "      <td>2020-01-05</td>\n",
       "      <td>0.607755</td>\n",
       "    </tr>\n",
       "    <tr>\n",
       "      <th>1</th>\n",
       "      <td>2020-01-12</td>\n",
       "      <td>0.497090</td>\n",
       "    </tr>\n",
       "    <tr>\n",
       "      <th>2</th>\n",
       "      <td>2020-01-19</td>\n",
       "      <td>0.551469</td>\n",
       "    </tr>\n",
       "  </tbody>\n",
       "</table>\n",
       "</div>"
      ],
      "text/plain": [
       "        date  prob_neg\n",
       "0 2020-01-05  0.607755\n",
       "1 2020-01-12  0.497090\n",
       "2 2020-01-19  0.551469"
      ]
     },
     "execution_count": 177,
     "metadata": {},
     "output_type": "execute_result"
    }
   ],
   "source": [
    "weekly_avg_prob_neg.head(3)"
   ]
  },
  {
   "cell_type": "code",
   "execution_count": 178,
   "id": "79c95e18-6cb4-4b1f-87b5-4ebc3793d830",
   "metadata": {},
   "outputs": [],
   "source": [
    "grouped_df_score = pd.concat([weekly_avg_prob_pos, weekly_avg_prob_neg['prob_neg']], axis=1)"
   ]
  },
  {
   "cell_type": "code",
   "execution_count": 179,
   "id": "4fa10acc-3840-4aea-969e-929ea374d7e3",
   "metadata": {},
   "outputs": [
    {
     "data": {
      "text/html": [
       "<div>\n",
       "<style scoped>\n",
       "    .dataframe tbody tr th:only-of-type {\n",
       "        vertical-align: middle;\n",
       "    }\n",
       "\n",
       "    .dataframe tbody tr th {\n",
       "        vertical-align: top;\n",
       "    }\n",
       "\n",
       "    .dataframe thead th {\n",
       "        text-align: right;\n",
       "    }\n",
       "</style>\n",
       "<table border=\"1\" class=\"dataframe\">\n",
       "  <thead>\n",
       "    <tr style=\"text-align: right;\">\n",
       "      <th></th>\n",
       "      <th>year</th>\n",
       "      <th>pos_avg</th>\n",
       "      <th>neg_avg</th>\n",
       "    </tr>\n",
       "  </thead>\n",
       "  <tbody>\n",
       "    <tr>\n",
       "      <th>0</th>\n",
       "      <td>2020-01-05</td>\n",
       "      <td>0.392245</td>\n",
       "      <td>0.607755</td>\n",
       "    </tr>\n",
       "    <tr>\n",
       "      <th>1</th>\n",
       "      <td>2020-01-12</td>\n",
       "      <td>0.502910</td>\n",
       "      <td>0.497090</td>\n",
       "    </tr>\n",
       "    <tr>\n",
       "      <th>2</th>\n",
       "      <td>2020-01-19</td>\n",
       "      <td>0.448531</td>\n",
       "      <td>0.551469</td>\n",
       "    </tr>\n",
       "    <tr>\n",
       "      <th>3</th>\n",
       "      <td>2020-01-26</td>\n",
       "      <td>0.430956</td>\n",
       "      <td>0.569044</td>\n",
       "    </tr>\n",
       "    <tr>\n",
       "      <th>4</th>\n",
       "      <td>2020-02-02</td>\n",
       "      <td>0.469614</td>\n",
       "      <td>0.530386</td>\n",
       "    </tr>\n",
       "  </tbody>\n",
       "</table>\n",
       "</div>"
      ],
      "text/plain": [
       "        year   pos_avg   neg_avg\n",
       "0 2020-01-05  0.392245  0.607755\n",
       "1 2020-01-12  0.502910  0.497090\n",
       "2 2020-01-19  0.448531  0.551469\n",
       "3 2020-01-26  0.430956  0.569044\n",
       "4 2020-02-02  0.469614  0.530386"
      ]
     },
     "execution_count": 179,
     "metadata": {},
     "output_type": "execute_result"
    }
   ],
   "source": [
    "grouped_df_score.columns = ['year', 'pos_avg', 'neg_avg']\n",
    "grouped_df_score.head()"
   ]
  },
  {
   "cell_type": "code",
   "execution_count": 181,
   "id": "3363c75e-9b1e-4e91-a921-002d85be011b",
   "metadata": {},
   "outputs": [],
   "source": [
    "grouped_df_score['year_int'] = grouped_df_score['year'].dt.year  # Extract the year as an integer"
   ]
  },
  {
   "cell_type": "code",
   "execution_count": 194,
   "id": "84bd806e-3c45-4284-83a1-c19e8a1c88e5",
   "metadata": {},
   "outputs": [
    {
     "data": {
      "image/png": "[encoded data removed]",
      "text/plain": [
       "<Figure size 1000x600 with 1 Axes>"
      ]
     },
     "metadata": {},
     "output_type": "display_data"
    }
   ],
   "source": [
    "import matplotlib.pyplot as plt\n",
    "import seaborn as sns\n",
    "\n",
    "# Set the figure size\n",
    "plt.figure(figsize=(10, 6))  # Adjust the width and height as desired\n",
    "\n",
    "# Create the line plot\n",
    "sns.lineplot(data=grouped_df_score, x='year', y='pos_avg', label='Positive Sentiment')\n",
    "#sns.lineplot(data=grouped_df_score, x='year', y='neg_avg', label='Negative Sentiment')\n",
    "\n",
    "# Set the legend, x-axis label, and y-axis label\n",
    "plt.legend()\n",
    "plt.xlabel('Year')\n",
    "plt.ylabel('Sentiment Counts')\n",
    "\n",
    "# Show the plot\n",
    "plt.show()"
   ]
  },
  {
   "cell_type": "code",
   "execution_count": 196,
   "id": "3d50ff66-1cc6-43c4-8147-feb2a479d43e",
   "metadata": {},
   "outputs": [
    {
     "data": {
      "image/png": "[encoded data removed]",
      "text/plain": [
       "<Figure size 1000x600 with 1 Axes>"
      ]
     },
     "metadata": {},
     "output_type": "display_data"
    }
   ],
   "source": [
    "import matplotlib.pyplot as plt\n",
    "import seaborn as sns\n",
    "\n",
    "# Set the figure size\n",
    "plt.figure(figsize=(10, 6))  # Adjust the width and height as desired\n",
    "\n",
    "# Create the line plot with orange color\n",
    "sns.lineplot(data=grouped_df_score, x='year', y='neg_avg', label='Negative Sentiment', color='orange')\n",
    "\n",
    "# Set the legend, x-axis label, and y-axis label\n",
    "plt.legend()\n",
    "plt.xlabel('Year')\n",
    "plt.ylabel('Sentiment Counts')\n",
    "\n",
    "# Show the plot\n",
    "plt.show()"
   ]
  },
  {
   "cell_type": "code",
   "execution_count": null,
   "id": "ee5e8a54-6bd3-468e-b1aa-37d0b8d6bec1",
   "metadata": {},
   "outputs": [],
   "source": []
  }
 ],
 "metadata": {
  "environment": {
   "kernel": "python3",
   "name": "common-cpu.m108",
   "type": "gcloud",
   "uri": "gcr.io/deeplearning-platform-release/base-cpu:m108"
  },
  "kernelspec": {
   "display_name": "Python 3",
   "language": "python",
   "name": "python3"
  },
  "language_info": {
   "codemirror_mode": {
    "name": "ipython",
    "version": 3
   },
   "file_extension": ".py",
   "mimetype": "text/x-python",
   "name": "python",
   "nbconvert_exporter": "python",
   "pygments_lexer": "ipython3",
   "version": "3.10.10"
  }
 },
 "nbformat": 4,
 "nbformat_minor": 5
}
